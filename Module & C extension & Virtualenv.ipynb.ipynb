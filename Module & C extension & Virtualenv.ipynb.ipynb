{
  "nbformat": 4,
  "nbformat_minor": 0,
  "metadata": {
    "colab": {
      "name": "Untitled4.ipynb",
      "provenance": [],
      "authorship_tag": "ABX9TyNV/a3l3xKw7MtUOdcNij4Z",
      "include_colab_link": true
    },
    "kernelspec": {
      "name": "python3",
      "display_name": "Python 3"
    }
  },
  "cells": [
    {
      "cell_type": "markdown",
      "metadata": {
        "id": "view-in-github",
        "colab_type": "text"
      },
      "source": [
        "<a href=\"https://colab.research.google.com/github/LEEHYUNJI94/Python/blob/master/Module%20%26%20C%20extension%20%26%20Virtualenv.ipynb.ipynb\" target=\"_parent\"><img src=\"https://colab.research.google.com/assets/colab-badge.svg\" alt=\"Open In Colab\"/></a>"
      ]
    },
    {
      "cell_type": "markdown",
      "metadata": {
        "id": "DZWdur3qG36V",
        "colab_type": "text"
      },
      "source": [
        "### ▶모듈 URLLIB"
      ]
    },
    {
      "cell_type": "code",
      "metadata": {
        "id": "jKoNG6zR32VZ",
        "colab_type": "code",
        "colab": {}
      },
      "source": [
        "import urllib.request\n",
        "try:\n",
        "  with urllib.request.urlopen(\"https://www.naver.com/\") as doc:\n",
        "    respond=doc.read().decode(\"utf-8\")\n",
        "  print(respond)      \n",
        "\n",
        "except :\n",
        "  print(\"could not open %s\"%doc,file=sys.err)       #웹 연결시 오류를 핸들링하기 위해 예외처리\n"
      ],
      "execution_count": 0,
      "outputs": []
    },
    {
      "cell_type": "code",
      "metadata": {
        "id": "9j9o3H45GGMa",
        "colab_type": "code",
        "colab": {
          "base_uri": "https://localhost:8080/",
          "height": 195
        },
        "outputId": "8948edbe-707d-4145-a9a3-2249ef6cf856"
      },
      "source": [
        "import urllib.parse\n",
        "NURL=\"https://www.naver.com/\"\n",
        "print(urllib.parse.urlparse(NURL))\n",
        "Url_parts=urllib.parse.urlsplit(NURL)\n",
        "print(\"\\t\")\n",
        "print(Url_parts[0])                     #호스트 확인\n",
        "print(Url_parts[1])                     #하위 경로 확인\n",
        "print(\"\\t\")\n",
        "\n",
        "#####나눈 URL 수정한 후 다시 합치기#####\n",
        "Url_parts=list(Url_parts)\n",
        "print(Url_parts)\n",
        "Url_parts[2]='/julia'\n",
        "print(urllib.parse.urlunsplit(Url_parts))\n",
        "print(\"\\t\")\n",
        "\n",
        "#####한글 텍스트 퍼센트 인코딩#####\n",
        "print(urllib.parse.quote(\"파이썬\"))           #한글깨짐 방지를 위해 quote함수 사용\n",
        "print(urllib.parse.unquote('%ED%8C%8C%EC%9D%B4%EC%8D%AC'))   "
      ],
      "execution_count": 54,
      "outputs": [
        {
          "output_type": "stream",
          "text": [
            "ParseResult(scheme='https', netloc='www.naver.com', path='/', params='', query='', fragment='')\n",
            "\t\n",
            "https\n",
            "www.naver.com\n",
            "\t\n",
            "['https', 'www.naver.com', '/', '', '']\n",
            "https://www.naver.com/julia\n",
            "\t\n",
            "%ED%8C%8C%EC%9D%B4%EC%8D%AC\n",
            "파이썬\n"
          ],
          "name": "stdout"
        }
      ]
    },
    {
      "cell_type": "code",
      "metadata": {
        "id": "ttlLPe2winc-",
        "colab_type": "code",
        "colab": {
          "base_uri": "https://localhost:8080/",
          "height": 409
        },
        "outputId": "d879d52b-cc21-4c4a-971a-f2c824cfad3d"
      },
      "source": [
        "import http.server, ssl\n",
        "\n",
        "httpd = http.server.HTTPServer(('0.0.0.0', 5443), http.server.SimpleHTTPRequestHandler)\n",
        "httpd.socket = ssl.wrap_socket(httpd.socket, certfile='newcert.pem', keyfile='newkey.pem')\n",
        "httpd.serve_forever()"
      ],
      "execution_count": 63,
      "outputs": [
        {
          "output_type": "error",
          "ename": "FileNotFoundError",
          "evalue": "ignored",
          "traceback": [
            "\u001b[0;31m---------------------------------------------------------------------------\u001b[0m",
            "\u001b[0;31mFileNotFoundError\u001b[0m                         Traceback (most recent call last)",
            "\u001b[0;32m<ipython-input-63-5f65ad4248f6>\u001b[0m in \u001b[0;36m<module>\u001b[0;34m()\u001b[0m\n\u001b[1;32m      7\u001b[0m \u001b[0mhttpd\u001b[0m \u001b[0;34m=\u001b[0m \u001b[0mhttp\u001b[0m\u001b[0;34m.\u001b[0m\u001b[0mserver\u001b[0m\u001b[0;34m.\u001b[0m\u001b[0mHTTPServer\u001b[0m\u001b[0;34m(\u001b[0m\u001b[0;34m(\u001b[0m\u001b[0;34m'0.0.0.0'\u001b[0m\u001b[0;34m,\u001b[0m \u001b[0;36m5443\u001b[0m\u001b[0;34m)\u001b[0m\u001b[0;34m,\u001b[0m \u001b[0mhttp\u001b[0m\u001b[0;34m.\u001b[0m\u001b[0mserver\u001b[0m\u001b[0;34m.\u001b[0m\u001b[0mSimpleHTTPRequestHandler\u001b[0m\u001b[0;34m)\u001b[0m\u001b[0;34m\u001b[0m\u001b[0;34m\u001b[0m\u001b[0m\n\u001b[1;32m      8\u001b[0m \u001b[0;34m\u001b[0m\u001b[0m\n\u001b[0;32m----> 9\u001b[0;31m \u001b[0mhttpd\u001b[0m\u001b[0;34m.\u001b[0m\u001b[0msocket\u001b[0m \u001b[0;34m=\u001b[0m \u001b[0mssl\u001b[0m\u001b[0;34m.\u001b[0m\u001b[0mwrap_socket\u001b[0m\u001b[0;34m(\u001b[0m\u001b[0mhttpd\u001b[0m\u001b[0;34m.\u001b[0m\u001b[0msocket\u001b[0m\u001b[0;34m,\u001b[0m \u001b[0mcertfile\u001b[0m\u001b[0;34m=\u001b[0m\u001b[0;34m'newcert.pem'\u001b[0m\u001b[0;34m,\u001b[0m \u001b[0mkeyfile\u001b[0m\u001b[0;34m=\u001b[0m\u001b[0;34m'newkey.pem'\u001b[0m\u001b[0;34m)\u001b[0m\u001b[0;34m\u001b[0m\u001b[0;34m\u001b[0m\u001b[0m\n\u001b[0m\u001b[1;32m     10\u001b[0m \u001b[0;34m\u001b[0m\u001b[0m\n\u001b[1;32m     11\u001b[0m \u001b[0mhttpd\u001b[0m\u001b[0;34m.\u001b[0m\u001b[0mserve_forever\u001b[0m\u001b[0;34m(\u001b[0m\u001b[0;34m)\u001b[0m\u001b[0;34m\u001b[0m\u001b[0;34m\u001b[0m\u001b[0m\n",
            "\u001b[0;32m/usr/lib/python3.6/ssl.py\u001b[0m in \u001b[0;36mwrap_socket\u001b[0;34m(sock, keyfile, certfile, server_side, cert_reqs, ssl_version, ca_certs, do_handshake_on_connect, suppress_ragged_eofs, ciphers)\u001b[0m\n\u001b[1;32m   1156\u001b[0m                      \u001b[0mdo_handshake_on_connect\u001b[0m\u001b[0;34m=\u001b[0m\u001b[0mdo_handshake_on_connect\u001b[0m\u001b[0;34m,\u001b[0m\u001b[0;34m\u001b[0m\u001b[0;34m\u001b[0m\u001b[0m\n\u001b[1;32m   1157\u001b[0m                      \u001b[0msuppress_ragged_eofs\u001b[0m\u001b[0;34m=\u001b[0m\u001b[0msuppress_ragged_eofs\u001b[0m\u001b[0;34m,\u001b[0m\u001b[0;34m\u001b[0m\u001b[0;34m\u001b[0m\u001b[0m\n\u001b[0;32m-> 1158\u001b[0;31m                      ciphers=ciphers)\n\u001b[0m\u001b[1;32m   1159\u001b[0m \u001b[0;34m\u001b[0m\u001b[0m\n\u001b[1;32m   1160\u001b[0m \u001b[0;31m# some utility functions\u001b[0m\u001b[0;34m\u001b[0m\u001b[0;34m\u001b[0m\u001b[0;34m\u001b[0m\u001b[0m\n",
            "\u001b[0;32m/usr/lib/python3.6/ssl.py\u001b[0m in \u001b[0;36m__init__\u001b[0;34m(self, sock, keyfile, certfile, server_side, cert_reqs, ssl_version, ca_certs, do_handshake_on_connect, family, type, proto, fileno, suppress_ragged_eofs, npn_protocols, ciphers, server_hostname, _context, _session)\u001b[0m\n\u001b[1;32m    748\u001b[0m                 \u001b[0mself\u001b[0m\u001b[0;34m.\u001b[0m\u001b[0m_context\u001b[0m\u001b[0;34m.\u001b[0m\u001b[0mload_verify_locations\u001b[0m\u001b[0;34m(\u001b[0m\u001b[0mca_certs\u001b[0m\u001b[0;34m)\u001b[0m\u001b[0;34m\u001b[0m\u001b[0;34m\u001b[0m\u001b[0m\n\u001b[1;32m    749\u001b[0m             \u001b[0;32mif\u001b[0m \u001b[0mcertfile\u001b[0m\u001b[0;34m:\u001b[0m\u001b[0;34m\u001b[0m\u001b[0;34m\u001b[0m\u001b[0m\n\u001b[0;32m--> 750\u001b[0;31m                 \u001b[0mself\u001b[0m\u001b[0;34m.\u001b[0m\u001b[0m_context\u001b[0m\u001b[0;34m.\u001b[0m\u001b[0mload_cert_chain\u001b[0m\u001b[0;34m(\u001b[0m\u001b[0mcertfile\u001b[0m\u001b[0;34m,\u001b[0m \u001b[0mkeyfile\u001b[0m\u001b[0;34m)\u001b[0m\u001b[0;34m\u001b[0m\u001b[0;34m\u001b[0m\u001b[0m\n\u001b[0m\u001b[1;32m    751\u001b[0m             \u001b[0;32mif\u001b[0m \u001b[0mnpn_protocols\u001b[0m\u001b[0;34m:\u001b[0m\u001b[0;34m\u001b[0m\u001b[0;34m\u001b[0m\u001b[0m\n\u001b[1;32m    752\u001b[0m                 \u001b[0mself\u001b[0m\u001b[0;34m.\u001b[0m\u001b[0m_context\u001b[0m\u001b[0;34m.\u001b[0m\u001b[0mset_npn_protocols\u001b[0m\u001b[0;34m(\u001b[0m\u001b[0mnpn_protocols\u001b[0m\u001b[0;34m)\u001b[0m\u001b[0;34m\u001b[0m\u001b[0;34m\u001b[0m\u001b[0m\n",
            "\u001b[0;31mFileNotFoundError\u001b[0m: [Errno 2] No such file or directory"
          ]
        }
      ]
    },
    {
      "cell_type": "markdown",
      "metadata": {
        "id": "z-rqvu2vUKn1",
        "colab_type": "text"
      },
      "source": [
        "### ▶웹서버 모듈"
      ]
    },
    {
      "cell_type": "code",
      "metadata": {
        "id": "TOfMyGoNUJav",
        "colab_type": "code",
        "colab": {
          "base_uri": "https://localhost:8080/",
          "height": 383
        },
        "outputId": "a3006bba-2a9c-4074-ffb5-81c20d96a22c"
      },
      "source": [
        "from BaseHTTPServer import HTTPServer, BaseHTTPRequestHandler\n",
        "\n",
        "class HTTPRequestHandler(http,server,BaseHTTPRequestHandeler):\n",
        "#####HTTP의 get요청처리#####  미리정의하도록 약속한 메소드\n",
        "  def do_Get(self): \n",
        "    self.route()\n",
        "#####요청 URL의 path에 따라 요청처리#####      \n",
        "  def route(self):\n",
        "    if self.path=='/hello':\n",
        "      self.hello()\n",
        "    else:\n",
        "      self.response_404_not_found()\n",
        "#####200 Ok상태코드와 인삿말 응답#####  \n",
        "  def hello(self):\n",
        "     self.response(200,\"Morgen\") \n",
        "#####404 Not found 상태코드와 오류메세지응답#####  \n",
        "  def response_404_not_found(self):\n",
        "    self.response(404,\"요청한 문서를 찾을 수 없음\")\n",
        "#####응답메세지 전송#####    \n",
        "  def response(self,status_code,body):\n",
        "     #상태코드전송#\n",
        "    self.send_response(status_code)\n",
        "    self.send_header('Content-type','text/plain; charset=utf-8')\n",
        "    self.end_headers()\n",
        "     #본문전송#\n",
        "    self.wfile.write(body.encode(\"utf-8\"))\n",
        "#####요청받을 주소(요청감시할 주소)#####\n",
        "ADDRESS1='localhost',8000\n",
        "\n",
        "#####요청대기######\n",
        "listener=http.server.HTTPServer(ADDRESS1,HTTPRequestHandler)\n",
        "print(f'http://{ADDRESS1[0]:{ADDRESS[1]}} 주소에서 요청 대기중')\n",
        "listener.server_forever()\n"
      ],
      "execution_count": 67,
      "outputs": [
        {
          "output_type": "error",
          "ename": "ModuleNotFoundError",
          "evalue": "ignored",
          "traceback": [
            "\u001b[0;31m---------------------------------------------------------------------------\u001b[0m",
            "\u001b[0;31mModuleNotFoundError\u001b[0m                       Traceback (most recent call last)",
            "\u001b[0;32m<ipython-input-67-47b615d7ccff>\u001b[0m in \u001b[0;36m<module>\u001b[0;34m()\u001b[0m\n\u001b[0;32m----> 1\u001b[0;31m \u001b[0;32mfrom\u001b[0m \u001b[0mBaseHTTPServer\u001b[0m \u001b[0;32mimport\u001b[0m \u001b[0mHTTPServer\u001b[0m\u001b[0;34m,\u001b[0m \u001b[0mBaseHTTPRequestHandler\u001b[0m\u001b[0;34m\u001b[0m\u001b[0;34m\u001b[0m\u001b[0m\n\u001b[0m\u001b[1;32m      2\u001b[0m \u001b[0;34m\u001b[0m\u001b[0m\n\u001b[1;32m      3\u001b[0m \u001b[0;32mclass\u001b[0m \u001b[0mHTTPRequestHandler\u001b[0m\u001b[0;34m(\u001b[0m\u001b[0mhttp\u001b[0m\u001b[0;34m,\u001b[0m\u001b[0mserver\u001b[0m\u001b[0;34m,\u001b[0m\u001b[0mBaseHTTPRequestHandeler\u001b[0m\u001b[0;34m)\u001b[0m\u001b[0;34m:\u001b[0m\u001b[0;34m\u001b[0m\u001b[0;34m\u001b[0m\u001b[0m\n\u001b[1;32m      4\u001b[0m \u001b[0;31m#####HTTP의 get요청처리#####  미리정의하도록 약속한 메소드\u001b[0m\u001b[0;34m\u001b[0m\u001b[0;34m\u001b[0m\u001b[0;34m\u001b[0m\u001b[0m\n\u001b[1;32m      5\u001b[0m   \u001b[0;32mdef\u001b[0m \u001b[0mdo_Get\u001b[0m\u001b[0;34m(\u001b[0m\u001b[0mself\u001b[0m\u001b[0;34m)\u001b[0m\u001b[0;34m:\u001b[0m\u001b[0;34m\u001b[0m\u001b[0;34m\u001b[0m\u001b[0m\n",
            "\u001b[0;31mModuleNotFoundError\u001b[0m: No module named 'BaseHTTPServer'",
            "",
            "\u001b[0;31m---------------------------------------------------------------------------\u001b[0;32m\nNOTE: If your import is failing due to a missing package, you can\nmanually install dependencies using either !pip or !apt.\n\nTo view examples of installing some common dependencies, click the\n\"Open Examples\" button below.\n\u001b[0;31m---------------------------------------------------------------------------\u001b[0m\n"
          ]
        }
      ]
    },
    {
      "cell_type": "markdown",
      "metadata": {
        "id": "rdF5GUNo9J9t",
        "colab_type": "text"
      },
      "source": [
        "### ▶C extension"
      ]
    },
    {
      "cell_type": "markdown",
      "metadata": {
        "id": "or6o09bSHNeD",
        "colab_type": "text"
      },
      "source": [
        ""
      ]
    },
    {
      "cell_type": "code",
      "metadata": {
        "id": "Dp7AZqSs5mUy",
        "colab_type": "code",
        "colab": {
          "base_uri": "https://localhost:8080/",
          "height": 35
        },
        "outputId": "385927cc-7f87-4de7-c565-8775ce83dcae"
      },
      "source": [
        "import requests, json             #딕셔너리구조 유지 + 문자열로 바꿔서 전달하기 위해 사용\n",
        "\n",
        "URL=\"http://www.naver.com\"\n",
        "respondse=requests.get(URL)\n",
        "respondse.status_code\n",
        "respondse.text\n",
        "\n",
        "parameter = {'key':'value'}       #실제로 던진 URL확인(파라미터-딕셔너리형식 &request 모듈에 전달=효율)\n",
        "result1=requests.get(\"http://www.naver.com\",params=parameter)\n",
        "result1.url"
      ],
      "execution_count": 19,
      "outputs": [
        {
          "output_type": "execute_result",
          "data": {
            "text/plain": [
              "'https://www.naver.com/?key=value'"
            ]
          },
          "metadata": {
            "tags": []
          },
          "execution_count": 19
        }
      ]
    },
    {
      "cell_type": "code",
      "metadata": {
        "id": "4uqKQil82YnI",
        "colab_type": "code",
        "colab": {
          "base_uri": "https://localhost:8080/",
          "height": 70
        },
        "outputId": "ed7f4ce7-2998-43b5-9e19-ba826a4bbd5a"
      },
      "source": [
        "from ctypes.util import find_library\n",
        "libm=ctypes.cdll.LoadLibrary(find_library(\"m\"))\n",
        "libm.cos.argtypes = [ctypes.c_double,]               # 인자의 타입을 리스트로 차례로 지정해 줍니다.\n",
        "libm.cos.restype = ctypes.c_double                   # 리턴 타입을 지정해 줍니다.\n",
        "\n",
        "print('cos(1)  =', libm.cos(1.0))              # 출력: 0.540302305868\n",
        "print('cos(0)  =', libm.cos(0.0))              # 출력: 1.0\n",
        "print('cos(pi) =', libm.cos(3.14159265359))    # 출력: -1.0\n"
      ],
      "execution_count": 3,
      "outputs": [
        {
          "output_type": "stream",
          "text": [
            "cos(1)  = 0.5403023058681398\n",
            "cos(0)  = 1.0\n",
            "cos(pi) = -1.0\n"
          ],
          "name": "stdout"
        }
      ]
    },
    {
      "cell_type": "markdown",
      "metadata": {
        "id": "HBjHRHUE4usu",
        "colab_type": "text"
      },
      "source": [
        "### ▶Virtualenv"
      ]
    },
    {
      "cell_type": "code",
      "metadata": {
        "id": "N75RaQr-pRIT",
        "colab_type": "code",
        "colab": {
          "base_uri": "https://localhost:8080/",
          "height": 410
        },
        "outputId": "096ac721-441b-4acf-f732-8f5cf0ca5b79"
      },
      "source": [
        "!pip3 install virtualenv"
      ],
      "execution_count": 5,
      "outputs": [
        {
          "output_type": "stream",
          "text": [
            "Collecting virtualenv\n",
            "\u001b[?25l  Downloading https://files.pythonhosted.org/packages/f2/99/bb5e5610a31a004b142b874ff6bfacd9d7e218bc63a09496f576b228f983/virtualenv-20.0.10-py2.py3-none-any.whl (4.6MB)\n",
            "\u001b[K     |████████████████████████████████| 4.6MB 2.8MB/s \n",
            "\u001b[?25hRequirement already satisfied: filelock<4,>=3.0.0 in /usr/local/lib/python3.6/dist-packages (from virtualenv) (3.0.12)\n",
            "Requirement already satisfied: six<2,>=1.9.0 in /usr/local/lib/python3.6/dist-packages (from virtualenv) (1.12.0)\n",
            "Collecting appdirs<2,>=1.4.3\n",
            "  Downloading https://files.pythonhosted.org/packages/56/eb/810e700ed1349edde4cbdc1b2a21e28cdf115f9faf263f6bbf8447c1abf3/appdirs-1.4.3-py2.py3-none-any.whl\n",
            "Requirement already satisfied: importlib-metadata<2,>=0.12; python_version < \"3.8\" in /usr/local/lib/python3.6/dist-packages (from virtualenv) (1.5.0)\n",
            "Collecting importlib-resources<2,>=1.0; python_version < \"3.7\"\n",
            "  Downloading https://files.pythonhosted.org/packages/42/e8/5f65011c40a9281418179e297cb95e5a9a2c72c0d5ab99ee081acc8483ef/importlib_resources-1.3.1-py2.py3-none-any.whl\n",
            "Collecting distlib<1,>=0.3.0\n",
            "\u001b[?25l  Downloading https://files.pythonhosted.org/packages/7d/29/694a3a4d7c0e1aef76092e9167fbe372e0f7da055f5dcf4e1313ec21d96a/distlib-0.3.0.zip (571kB)\n",
            "\u001b[K     |████████████████████████████████| 573kB 63.5MB/s \n",
            "\u001b[?25hRequirement already satisfied: zipp>=0.5 in /usr/local/lib/python3.6/dist-packages (from importlib-metadata<2,>=0.12; python_version < \"3.8\"->virtualenv) (3.1.0)\n",
            "Building wheels for collected packages: distlib\n",
            "  Building wheel for distlib (setup.py) ... \u001b[?25l\u001b[?25hdone\n",
            "  Created wheel for distlib: filename=distlib-0.3.0-cp36-none-any.whl size=340429 sha256=90eb76888e9daece7d2e9b04316f0a301a22e0bcb0079f0308575e46d9e6b2c8\n",
            "  Stored in directory: /root/.cache/pip/wheels/6e/e8/db/c73dae4867666e89ba3cfbc4b5c092446f0e584eda6f409cbb\n",
            "Successfully built distlib\n",
            "Installing collected packages: appdirs, importlib-resources, distlib, virtualenv\n",
            "Successfully installed appdirs-1.4.3 distlib-0.3.0 importlib-resources-1.3.1 virtualenv-20.0.10\n"
          ],
          "name": "stdout"
        }
      ]
    }
  ]
}