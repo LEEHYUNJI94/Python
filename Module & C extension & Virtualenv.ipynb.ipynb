{
  "nbformat": 4,
  "nbformat_minor": 0,
  "metadata": {
    "colab": {
      "name": "Untitled4.ipynb",
      "provenance": [],
      "authorship_tag": "ABX9TyMmZdvVPh3uHAEax6RK/Z2w",
      "include_colab_link": true
    },
    "kernelspec": {
      "name": "python3",
      "display_name": "Python 3"
    }
  },
  "cells": [
    {
      "cell_type": "markdown",
      "metadata": {
        "id": "view-in-github",
        "colab_type": "text"
      },
      "source": [
        "<a href=\"https://colab.research.google.com/github/LEEHYUNJI94/Python/blob/master/Module%20%26%20C%20extension%20%26%20Virtualenv.ipynb.ipynb\" target=\"_parent\"><img src=\"https://colab.research.google.com/assets/colab-badge.svg\" alt=\"Open In Colab\"/></a>"
      ]
    },
    {
      "cell_type": "markdown",
      "metadata": {
        "id": "rdF5GUNo9J9t",
        "colab_type": "text"
      },
      "source": [
        "### ▶C extension"
      ]
    },
    {
      "cell_type": "code",
      "metadata": {
        "id": "4uqKQil82YnI",
        "colab_type": "code",
        "colab": {
          "base_uri": "https://localhost:8080/",
          "height": 70
        },
        "outputId": "ed7f4ce7-2998-43b5-9e19-ba826a4bbd5a"
      },
      "source": [
        "from ctypes.util import find_library\n",
        "libm=ctypes.cdll.LoadLibrary(find_library(\"m\"))\n",
        "libm.cos.argtypes = [ctypes.c_double,]               # 인자의 타입을 리스트로 차례로 지정해 줍니다.\n",
        "libm.cos.restype = ctypes.c_double                   # 리턴 타입을 지정해 줍니다.\n",
        "\n",
        "print('cos(1)  =', libm.cos(1.0))              # 출력: 0.540302305868\n",
        "print('cos(0)  =', libm.cos(0.0))              # 출력: 1.0\n",
        "print('cos(pi) =', libm.cos(3.14159265359))    # 출력: -1.0\n"
      ],
      "execution_count": 3,
      "outputs": [
        {
          "output_type": "stream",
          "text": [
            "cos(1)  = 0.5403023058681398\n",
            "cos(0)  = 1.0\n",
            "cos(pi) = -1.0\n"
          ],
          "name": "stdout"
        }
      ]
    },
    {
      "cell_type": "markdown",
      "metadata": {
        "id": "HBjHRHUE4usu",
        "colab_type": "text"
      },
      "source": [
        "### ▶Virtualenv"
      ]
    },
    {
      "cell_type": "code",
      "metadata": {
        "id": "N75RaQr-pRIT",
        "colab_type": "code",
        "colab": {
          "base_uri": "https://localhost:8080/",
          "height": 410
        },
        "outputId": "096ac721-441b-4acf-f732-8f5cf0ca5b79"
      },
      "source": [
        "!pip3 install virtualenv"
      ],
      "execution_count": 5,
      "outputs": [
        {
          "output_type": "stream",
          "text": [
            "Collecting virtualenv\n",
            "\u001b[?25l  Downloading https://files.pythonhosted.org/packages/f2/99/bb5e5610a31a004b142b874ff6bfacd9d7e218bc63a09496f576b228f983/virtualenv-20.0.10-py2.py3-none-any.whl (4.6MB)\n",
            "\u001b[K     |████████████████████████████████| 4.6MB 2.8MB/s \n",
            "\u001b[?25hRequirement already satisfied: filelock<4,>=3.0.0 in /usr/local/lib/python3.6/dist-packages (from virtualenv) (3.0.12)\n",
            "Requirement already satisfied: six<2,>=1.9.0 in /usr/local/lib/python3.6/dist-packages (from virtualenv) (1.12.0)\n",
            "Collecting appdirs<2,>=1.4.3\n",
            "  Downloading https://files.pythonhosted.org/packages/56/eb/810e700ed1349edde4cbdc1b2a21e28cdf115f9faf263f6bbf8447c1abf3/appdirs-1.4.3-py2.py3-none-any.whl\n",
            "Requirement already satisfied: importlib-metadata<2,>=0.12; python_version < \"3.8\" in /usr/local/lib/python3.6/dist-packages (from virtualenv) (1.5.0)\n",
            "Collecting importlib-resources<2,>=1.0; python_version < \"3.7\"\n",
            "  Downloading https://files.pythonhosted.org/packages/42/e8/5f65011c40a9281418179e297cb95e5a9a2c72c0d5ab99ee081acc8483ef/importlib_resources-1.3.1-py2.py3-none-any.whl\n",
            "Collecting distlib<1,>=0.3.0\n",
            "\u001b[?25l  Downloading https://files.pythonhosted.org/packages/7d/29/694a3a4d7c0e1aef76092e9167fbe372e0f7da055f5dcf4e1313ec21d96a/distlib-0.3.0.zip (571kB)\n",
            "\u001b[K     |████████████████████████████████| 573kB 63.5MB/s \n",
            "\u001b[?25hRequirement already satisfied: zipp>=0.5 in /usr/local/lib/python3.6/dist-packages (from importlib-metadata<2,>=0.12; python_version < \"3.8\"->virtualenv) (3.1.0)\n",
            "Building wheels for collected packages: distlib\n",
            "  Building wheel for distlib (setup.py) ... \u001b[?25l\u001b[?25hdone\n",
            "  Created wheel for distlib: filename=distlib-0.3.0-cp36-none-any.whl size=340429 sha256=90eb76888e9daece7d2e9b04316f0a301a22e0bcb0079f0308575e46d9e6b2c8\n",
            "  Stored in directory: /root/.cache/pip/wheels/6e/e8/db/c73dae4867666e89ba3cfbc4b5c092446f0e584eda6f409cbb\n",
            "Successfully built distlib\n",
            "Installing collected packages: appdirs, importlib-resources, distlib, virtualenv\n",
            "Successfully installed appdirs-1.4.3 distlib-0.3.0 importlib-resources-1.3.1 virtualenv-20.0.10\n"
          ],
          "name": "stdout"
        }
      ]
    },
    {
      "cell_type": "code",
      "metadata": {
        "id": "Dp7AZqSs5mUy",
        "colab_type": "code",
        "colab": {
          "base_uri": "https://localhost:8080/",
          "height": 34
        },
        "outputId": "385927cc-7f87-4de7-c565-8775ce83dcae"
      },
      "source": [
        "import requests, json             #딕셔너리구조 유지 + 문자열로 바꿔서 전달하기 위해 사용\n",
        "\n",
        "URL=\"http://www.naver.com\"\n",
        "respondse=requests.get(URL)\n",
        "respondse.status_code\n",
        "respondse.text\n",
        "\n",
        "parameter = {'key':'value'}       #실제로 던진 URL확인(파라미터-딕셔너리형식 &request 모듈에 전달=효율)\n",
        "result1=requests.get(\"http://www.naver.com\",params=parameter)\n",
        "result1.url"
      ],
      "execution_count": 19,
      "outputs": [
        {
          "output_type": "execute_result",
          "data": {
            "text/plain": [
              "'https://www.naver.com/?key=value'"
            ]
          },
          "metadata": {
            "tags": []
          },
          "execution_count": 19
        }
      ]
    }
  ]
}