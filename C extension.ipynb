{
  "nbformat": 4,
  "nbformat_minor": 0,
  "metadata": {
    "colab": {
      "name": "Untitled4.ipynb",
      "provenance": [],
      "authorship_tag": "ABX9TyNlPIxPgM47SP38qYu4vIEO",
      "include_colab_link": true
    },
    "kernelspec": {
      "name": "python3",
      "display_name": "Python 3"
    }
  },
  "cells": [
    {
      "cell_type": "markdown",
      "metadata": {
        "id": "view-in-github",
        "colab_type": "text"
      },
      "source": [
        "<a href=\"https://colab.research.google.com/github/LEEHYUNJI94/Python/blob/master/C%20extension.ipynb\" target=\"_parent\"><img src=\"https://colab.research.google.com/assets/colab-badge.svg\" alt=\"Open In Colab\"/></a>"
      ]
    },
    {
      "cell_type": "markdown",
      "metadata": {
        "id": "rdF5GUNo9J9t",
        "colab_type": "text"
      },
      "source": [
        "### ▶C extension"
      ]
    },
    {
      "cell_type": "code",
      "metadata": {
        "id": "4uqKQil82YnI",
        "colab_type": "code",
        "colab": {
          "base_uri": "https://localhost:8080/",
          "height": 70
        },
        "outputId": "ed7f4ce7-2998-43b5-9e19-ba826a4bbd5a"
      },
      "source": [
        "from ctypes.util import find_library\n",
        "libm=ctypes.cdll.LoadLibrary(find_library(\"m\"))\n",
        "libm.cos.argtypes = [ctypes.c_double,]               # 인자의 타입을 리스트로 차례로 지정해 줍니다.\n",
        "libm.cos.restype = ctypes.c_double                   # 리턴 타입을 지정해 줍니다.\n",
        "\n",
        "print('cos(1)  =', libm.cos(1.0))              # 출력: 0.540302305868\n",
        "print('cos(0)  =', libm.cos(0.0))              # 출력: 1.0\n",
        "print('cos(pi) =', libm.cos(3.14159265359))    # 출력: -1.0\n"
      ],
      "execution_count": 3,
      "outputs": [
        {
          "output_type": "stream",
          "text": [
            "cos(1)  = 0.5403023058681398\n",
            "cos(0)  = 1.0\n",
            "cos(pi) = -1.0\n"
          ],
          "name": "stdout"
        }
      ]
    }
  ]
}