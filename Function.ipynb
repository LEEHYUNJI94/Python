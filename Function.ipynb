{
  "nbformat": 4,
  "nbformat_minor": 0,
  "metadata": {
    "colab": {
      "name": "Untitled1.ipynb의 사본",
      "provenance": [],
      "include_colab_link": true
    },
    "kernelspec": {
      "name": "python3",
      "display_name": "Python 3"
    }
  },
  "cells": [
    {
      "cell_type": "markdown",
      "metadata": {
        "id": "view-in-github",
        "colab_type": "text"
      },
      "source": [
        "<a href=\"https://colab.research.google.com/github/LEEHYUNJI94/Python/blob/master/Function.ipynb\" target=\"_parent\"><img src=\"https://colab.research.google.com/assets/colab-badge.svg\" alt=\"Open In Colab\"/></a>"
      ]
    },
    {
      "cell_type": "markdown",
      "metadata": {
        "id": "wwCmI8CZ30ad",
        "colab_type": "text"
      },
      "source": [
        "## ▶함수\n",
        "### 0.퍼스트 클래스& SCOPE 이해하기"
      ]
    },
    {
      "cell_type": "code",
      "metadata": {
        "id": "KGMdfsAuDelv",
        "colab_type": "code",
        "colab": {
          "base_uri": "https://localhost:8080/",
          "height": 70
        },
        "outputId": "6e1e6580-4f1b-40eb-fece-fc19cbdc386d"
      },
      "source": [
        "######퍼스트클래스######\n",
        "def first_class(x):\n",
        "    return x * x\n",
        "\n",
        "print(first_class(5))\n",
        "\n",
        "first = first_class\n",
        "\n",
        "print(first(5))\n",
        "\n",
        "\n",
        "def first_class2(func, arg_list):                #1\n",
        "# def first_class2(arg_list):                    #2\n",
        "    result = []\n",
        "    for i in arg_list:\n",
        "      # result.append(i*i)                       #2\n",
        "      result.append(func(i))                     #1     first_class 함수 호출, func == first_class\n",
        "    return result\n",
        "first_class_list = [1, 2, 3, 4, 5]\n",
        "\n",
        "# print(first_class2(first_class_list))          #2\n",
        "\n",
        "result1 = first_class2(first_class, first_class_list)   #1\n",
        "\n",
        "print(result1)\n",
        "\n",
        "\n",
        "######스코프 이해하기######\n",
        " x=1\n",
        " def scope1():\n",
        "  #  global x\n",
        "   x=2 \n",
        "   print(\"scope1의 결과\",x)\n",
        " def scope2():\n",
        "  print(\"scope2의 결과\",x) #정적 스코프 이기 때문\n",
        "x=3    \n",
        "scope1()\n",
        "scope2()\n",
        "print(x)"
      ],
      "execution_count": null,
      "outputs": [
        {
          "output_type": "stream",
          "text": [
            "25\n",
            "25\n",
            "[1, 4, 9, 16, 25]\n"
          ],
          "name": "stdout"
        }
      ]
    },
    {
      "cell_type": "markdown",
      "metadata": {
        "id": "_PR67EjxemX-",
        "colab_type": "text"
      },
      "source": [
        "### Decorator"
      ]
    },
    {
      "cell_type": "code",
      "metadata": {
        "id": "0QZNN2BhlTdV",
        "colab_type": "code",
        "colab": {
          "base_uri": "https://localhost:8080/",
          "height": 336
        },
        "outputId": "426627d1-e550-4f67-f234-ffb1e39b78c8"
      },
      "source": [
        "def get(func):\n",
        "  def wrap(*args):\n",
        "    print(\"실행되는 함수명:\",func.__name__)\n",
        "    print(\"args 인수:\",args)\n",
        "    result=func(*args)\n",
        "    print(\"함수호출결과:\",result)\n",
        "    return result\n",
        "  return wrap\n",
        "#데코레이터 사용 전\n",
        "def multi_ints(a,b):\n",
        "  return a*b\n",
        "a=get(multi_ints)\n",
        "print(a(3,7))\n",
        "print(\"\\n\")\n",
        "\n",
        "#데코레이터 사용\n",
        "@get\n",
        "def multi_ints(a,b):\n",
        "  return a*b\n",
        "print(multi_ints(3,7))\n",
        "def square(func):\n",
        "  def new(*args):\n",
        "    print(\"new function start\")\n",
        "    print(\"args 인수:\",args)\n",
        "    result2=func(*args)\n",
        "    return result2 * result2\n",
        "  return new \n",
        "print(\"\\n\")\n",
        "\n",
        "@square\n",
        "@get\n",
        "def add_ints(a,b):\n",
        " return a+b\n",
        "print(add_ints(3,5))"
      ],
      "execution_count": null,
      "outputs": [
        {
          "output_type": "stream",
          "text": [
            "실행되는 함수명: multi_ints\n",
            "args 인수: (3, 7)\n",
            "함수호출결과: 21\n",
            "21\n",
            "\n",
            "\n",
            "실행되는 함수명: multi_ints\n",
            "args 인수: (3, 7)\n",
            "함수호출결과: 21\n",
            "21\n",
            "\n",
            "\n",
            "new function start\n",
            "args 인수: (3, 5)\n",
            "실행되는 함수명: add_ints\n",
            "args 인수: (3, 5)\n",
            "함수호출결과: 8\n",
            "64\n"
          ],
          "name": "stdout"
        }
      ]
    },
    {
      "cell_type": "markdown",
      "metadata": {
        "id": "50w1eaCzD039",
        "colab_type": "text"
      },
      "source": [
        "### 1. 재귀함수\n",
        "##### 팩토리얼 구하기\n",
        "*   자기자신을 다시 호출하는 함수\n",
        "*   stackoverflow우려가 있으며, loop보다 시간이 많이 걸림"
      ]
    },
    {
      "cell_type": "code",
      "metadata": {
        "id": "RO_SNWth35F8",
        "colab_type": "code",
        "colab": {
          "base_uri": "https://localhost:8080/",
          "height": 88
        },
        "outputId": "974502ac-76c6-422e-d0e8-d6a5ab95b35e"
      },
      "source": [
        "\n",
        "\n",
        "#재귀함수\n",
        "n=2\n",
        "def fa(n):\n",
        "   if n == 1:\n",
        "     return 1\n",
        "   return n*fa(n-1)\n",
        "print(fa(5))"
      ],
      "execution_count": null,
      "outputs": [
        {
          "output_type": "stream",
          "text": [
            "scope1의 결과 2\n",
            "scope2의 결과 3\n",
            "3\n",
            "120\n"
          ],
          "name": "stdout"
        }
      ]
    },
    {
      "cell_type": "markdown",
      "metadata": {
        "id": "WWQfIZEe39N4",
        "colab_type": "text"
      },
      "source": [
        "### 2.Comprehension 함수\n",
        "*   List, Set , Dict, Generator\n",
        "\n",
        "\n",
        "\n",
        "\n",
        "    →Generator: 시퀀스 자료형의 데이터 처리시 사용\n",
        "    실행 시점의 값을 생성해 효율적으로 메모리를 관리할 수 있음)"
      ]
    },
    {
      "cell_type": "code",
      "metadata": {
        "id": "_AyiItL738ty",
        "colab_type": "code",
        "colab": {
          "base_uri": "https://localhost:8080/",
          "height": 265
        },
        "outputId": "98f68d7e-2057-449e-8c44-0d9ee42f6c28"
      },
      "source": [
        "#Comprehension 함수\n",
        "\n",
        "#배열\n",
        "make_array = [x for x in range(0,57,7)]\n",
        "print(type(make_array))\n",
        "print(make_array)\n",
        "\n",
        "#집합 / 이중 for문 사용\n",
        "make_set = {j for i in range(2,9) for j in range(i*20,50,i)} \n",
        "print(type(make_set))\n",
        "print(make_set)\n",
        "\n",
        "#딕셔너리 내포\n",
        "price=[100,500,300,400]  \n",
        "goods=[\"연필\",\"책장\",\"의자\",\"책상\"]\n",
        "goods_pr= {\n",
        "    goods : price for goods, price in zip(goods,price) } #zip함수: 2개의 시퀀스 자료형 data에서 같은 위치에 있는 값끼리 대응해 계산\n",
        "print(type(goods_pr))\n",
        "print(goods_pr)\n",
        "\n",
        "#generator 주소값으로 갖고 있음 like 포인터\n",
        "make_gener = (x for x in range(0,57,7))  \n",
        "print(type(make_gener))\n",
        "print(make_gener.__next__())\n",
        "print(next(make_gener))\n",
        "print(next(make_gener))\n",
        "print(\"\\t\")\n",
        "\n",
        "import sys\n",
        "print(sys.getsizeof([i for i in range(100) if i % 2]))  #메모리 사이즈확인\n",
        "print(sys.getsizeof((i for i in range(100)if i %2)))\n",
        "\n",
        "#변수를 list형식으로 선언해 함수사용\n",
        "words=[\"abc\",\"dse\",\"fdg\",\"hfd\",\"fsdf\"]\n",
        "answer=[[w.upper(),w.lower(),len(w)] for w in words]\n",
        "print(answer)\n"
      ],
      "execution_count": null,
      "outputs": [
        {
          "output_type": "stream",
          "text": [
            "<class 'list'>\n",
            "[0, 7, 14, 21, 28, 35, 42, 49, 56]\n",
            "<class 'set'>\n",
            "{40, 42, 44, 46, 48}\n",
            "<class 'dict'>\n",
            "{'연필': 100, '책장': 500, '의자': 300, '책상': 400}\n",
            "<class 'generator'>\n",
            "0\n",
            "7\n",
            "14\n",
            "\t\n",
            "528\n",
            "88\n",
            "[['ABC', 'abc', 3], ['DSE', 'dse', 3], ['FDG', 'fdg', 3], ['HFD', 'hfd', 3], ['FSDF', 'fsdf', 4]]\n"
          ],
          "name": "stdout"
        }
      ]
    },
    {
      "cell_type": "markdown",
      "metadata": {
        "id": "-9YrhPuo4EV5",
        "colab_type": "text"
      },
      "source": [
        "#### Lambda함수 표현식이용 (함수를 즉석해서 생성하고 반환하는 함수)-이름없는 함수라 디버깅하기 힘듦\n",
        "### 3.Map함수\n",
        "*   배열을 함수에 매핑\n",
        "    "
      ]
    },
    {
      "cell_type": "code",
      "metadata": {
        "id": "fqa0R-ujlihw",
        "colab_type": "code",
        "colab": {
          "base_uri": "https://localhost:8080/",
          "height": 141
        },
        "outputId": "d8169cea-fffd-4d3d-d5cd-325ccf36815b"
      },
      "source": [
        "#함수만들기\n",
        "def normal(x):\n",
        "  return x*x\n",
        "\n",
        "#lambda함수 \n",
        "make_lambda=lambda x: x*x\n",
        "\n",
        "#3.map(함수,list)\n",
        "map(normal,make_array)\n",
        "list(map(normal,make_array)) #파이썬 3.X부터 list필요\n",
        "print(list(map(normal,make_array))) \n",
        "print(list(map(make_lambda,make_array)))\n",
        "print(list(map(lambda x:x*x,make_array)))\n",
        "print(\"\\t\")\n",
        "print(list(map(lambda x:str(x) if x%3==0 else x,make_array)))\n",
        "print(\"\\t\")\n",
        "print(\"::\".join(map(str,make_array)))\n"
      ],
      "execution_count": null,
      "outputs": [
        {
          "output_type": "stream",
          "text": [
            "[0, 49, 196, 441, 784, 1225, 1764, 2401, 3136]\n",
            "[0, 49, 196, 441, 784, 1225, 1764, 2401, 3136]\n",
            "[0, 49, 196, 441, 784, 1225, 1764, 2401, 3136]\n",
            "\t\n",
            "['0', 7, 14, '21', 28, 35, '42', 49, 56]\n",
            "\t\n",
            "0::7::14::21::28::35::42::49::56\n"
          ],
          "name": "stdout"
        }
      ]
    },
    {
      "cell_type": "code",
      "metadata": {
        "id": "tq8EHdmRTelj",
        "colab_type": "code",
        "colab": {
          "base_uri": "https://localhost:8080/",
          "height": 52
        },
        "outputId": "94a27a5a-4629-4347-935f-19375659dcc8"
      },
      "source": [
        "def sort_priority(numbers, group):\n",
        "    found = [False]\n",
        "    def helper(x):\n",
        "        if x in group:\n",
        "            found[0] = True\n",
        "            return (0, x)\n",
        "        return (1, x)\n",
        "    numbers.sort(key=helper)\n",
        "    return found[0]\n",
        "\n",
        "if __name__ == \"__main__\":\n",
        "    numbers = [8, 3, 1, 2, 5, 4, 7, 6]\n",
        "    group = set([2, 3, 5, 7])\n",
        "    found = sort_priority(numbers, group)\n",
        "    print('Found:', found)\n",
        "    print(numbers)"
      ],
      "execution_count": null,
      "outputs": [
        {
          "output_type": "stream",
          "text": [
            "Found: True\n",
            "[2, 3, 5, 7, 1, 4, 6, 8]\n"
          ],
          "name": "stdout"
        }
      ]
    },
    {
      "cell_type": "markdown",
      "metadata": {
        "id": "OcmqGzufmOiF",
        "colab_type": "text"
      },
      "source": [
        "\n",
        "### 4.Filter함수\n",
        "*   배열중 특정 조건에 맞는 요소만 filter(참인 것만 return)\n",
        "\n",
        "### 5.Reduce\n",
        "*   누적해서 반환하는 함수\n",
        "*   from functools import reduce (내장 함수가 아님)"
      ]
    },
    {
      "cell_type": "code",
      "metadata": {
        "id": "BX8QnZsA38ku",
        "colab_type": "code",
        "colab": {
          "base_uri": "https://localhost:8080/",
          "height": 104
        },
        "outputId": "f164e9a6-6eff-4843-b389-c80d5e66e320"
      },
      "source": [
        "#4.Filter함수(함수,list)\n",
        "for_filter = range(0,10)\n",
        "print(list(filter(lambda x:x%2==1,for_filter)))\n",
        "print(\"\\t\")\n",
        "# 5.Reduce(함수,반복 가능한 객체)/항상 두개의 변수를 갖고 있음\n",
        "from functools import reduce\n",
        "\n",
        "def factorial(n):\n",
        "  return reduce(lambda x,y : x*y ,range(1,1+n))\n",
        "print(factorial(5)) #팩토리얼 만들기\n",
        "print(\"\\t\")\n",
        "b=list(map(lambda x:x*x,make_array))\n",
        "print(reduce(lambda x,y: x if(x>y) else y, b)) #최대값 구하기"
      ],
      "execution_count": null,
      "outputs": [
        {
          "output_type": "stream",
          "text": [
            "[1, 3, 5, 7, 9]\n",
            "\t\n",
            "120\n",
            "\t\n",
            "3136\n"
          ],
          "name": "stdout"
        }
      ]
    },
    {
      "cell_type": "markdown",
      "metadata": {
        "id": "GPX3yPtLyzkC",
        "colab_type": "text"
      },
      "source": [
        "###### comprehension과 map() & lambda 함수비교"
      ]
    },
    {
      "cell_type": "code",
      "metadata": {
        "id": "te1_qXuwy2R-",
        "colab_type": "code",
        "colab": {
          "base_uri": "https://localhost:8080/",
          "height": 104
        },
        "outputId": "9cd425a6-e9fe-4230-ca13-1f88b190333d"
      },
      "source": [
        "#map사용\n",
        "use=range(1,8)\n",
        "print(list(map(lambda x,y: x+y,use,use)))\n",
        "#comprehension 사용 \n",
        "print([x+y for x,y in zip(use,use)])\n",
        "print(\"\\t\")\n",
        "#map에서 필터링기능\n",
        "print(list(map(lambda x:x**2 if x%2==1 else x,use)))\n",
        "#comprehension 사용 \n",
        "print([x**2 if x%2==1 else x for x in use])"
      ],
      "execution_count": null,
      "outputs": [
        {
          "output_type": "stream",
          "text": [
            "[2, 4, 6, 8, 10, 12, 14]\n",
            "[2, 4, 6, 8, 10, 12, 14]\n",
            "\t\n",
            "[1, 2, 9, 4, 25, 6, 49]\n",
            "[1, 2, 9, 4, 25, 6, 49]\n"
          ],
          "name": "stdout"
        }
      ]
    },
    {
      "cell_type": "markdown",
      "metadata": {
        "id": "PXrgCLTZqdo4",
        "colab_type": "text"
      },
      "source": [
        "##### 맵리듀스\n",
        "맵-(key,value)\n",
        "리듀스-key를 기준으로 연산 등\n",
        "\n",
        "![image.png](data:image/png;base64,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)\n"
      ]
    },
    {
      "cell_type": "markdown",
      "metadata": {
        "id": "Mvw5k6WvN1X6",
        "colab_type": "text"
      },
      "source": [
        "\n",
        "\n",
        "---\n",
        "\n",
        "\n",
        "## ▶입출력\n",
        "### 1. 기본입출력\n"
      ]
    },
    {
      "cell_type": "code",
      "metadata": {
        "id": "JFWu-3W5N2Iw",
        "colab_type": "code",
        "colab": {
          "base_uri": "https://localhost:8080/",
          "height": 52
        },
        "outputId": "3da9fbc1-08db-4edb-c3f9-5ec852a68649"
      },
      "source": [
        "a=input(\"숫자를 입력하세요:\").split(' ')\n",
        "x=int(a[0])\n",
        "y=int(a[1])\n",
        "print(x+y)"
      ],
      "execution_count": null,
      "outputs": [
        {
          "output_type": "stream",
          "text": [
            "숫자를 입력하세요:12 32\n",
            "44\n"
          ],
          "name": "stdout"
        }
      ]
    },
    {
      "cell_type": "markdown",
      "metadata": {
        "id": "l7ObGnmDtDJA",
        "colab_type": "text"
      },
      "source": [
        "### 2. 함수 리턴값\n",
        "\n",
        "*   디폴트 인자\n",
        "*   가변 인자\n",
        "*   위치 인자 & 키워드 인자 \n",
        "        키워드 인자와 위치 인자를 섞어 사용할 시,위치인자 우선\n",
        "\n",
        "\n"
      ]
    },
    {
      "cell_type": "code",
      "metadata": {
        "id": "7obWRgYktDkX",
        "colab_type": "code",
        "colab": {
          "base_uri": "https://localhost:8080/",
          "height": 86
        },
        "outputId": "fff6dfd0-e69f-4019-cdb2-2b2e0797e341"
      },
      "source": [
        "def plus (x,y,z=10):\n",
        "  return x+y+z\n",
        "\n",
        "a=plus(10,20)\n",
        "b=plus(2,4,z=6)\n",
        "c=plus(y=4,x=3)\n",
        "print(\"a의 값은?\",a)\n",
        "print(\"b의 값은?\",b)\n",
        "print(\"c의 값은?\",c)\n",
        "\n",
        "testlist=[50,60,1]\n",
        "d=plus(*testlist)\n",
        "print(\"d의 값은?\",d)\n"
      ],
      "execution_count": null,
      "outputs": [
        {
          "output_type": "stream",
          "text": [
            "a의 값은? 40\n",
            "b의 값은? 12\n",
            "c의 값은? 17\n",
            "d의 값은? 111\n"
          ],
          "name": "stdout"
        }
      ]
    },
    {
      "cell_type": "markdown",
      "metadata": {
        "id": "AsZBPAUkll1P",
        "colab_type": "text"
      },
      "source": [
        "### 3. 에러리턴(예외처리) & ITERATOR\n",
        "*   try/except/else or finally\n",
        " \n",
        "\n"
      ]
    },
    {
      "cell_type": "code",
      "metadata": {
        "id": "Ei5RvGhilmr2",
        "colab_type": "code",
        "colab": {
          "base_uri": "https://localhost:8080/",
          "height": 34
        },
        "outputId": "1da6a125-9188-42fd-9fee-87355dcb5bdc"
      },
      "source": [
        " try:\n",
        "  list1 =[1,2,3,4]\n",
        "  t=(\"이현지\",12,34)\n",
        "  no=100\n",
        "\n",
        "  make_iter=iter(list1)\n",
        "  # make_i\n",
        "  ter1=iter(no)\n",
        "  make_iter2=iter(t)\n",
        "  make_iter3=iter(range(4))\n",
        "\n",
        "# except TypeError:\n",
        "#   print('iterable 객체가 아닙니다')\n",
        "# except NameError : Value error / IndexError... #여러개 에러 처리하기 \n",
        "except Exception as e:                            #excetion class이용\n",
        "  print(\"Exception 예외발생:{0}\".format(e))\n",
        "\n",
        "else:\n",
        "  print(\"Iterable 객체입니다.\")\n",
        "# finally: print(\"a\")                              #try절에서 예외 발생여부 관계없이 항상 실행\n"
      ],
      "execution_count": null,
      "outputs": [
        {
          "output_type": "stream",
          "text": [
            "Iterable 객체입니다.\n"
          ],
          "name": "stdout"
        }
      ]
    },
    {
      "cell_type": "markdown",
      "metadata": {
        "id": "JHXEKZbRatGP",
        "colab_type": "text"
      },
      "source": [
        "### 3. 에러리턴(예외처리)\n",
        "*   오류발생시키기"
      ]
    },
    {
      "cell_type": "code",
      "metadata": {
        "id": "Az33fc2Qatg1",
        "colab_type": "code",
        "colab": {
          "base_uri": "https://localhost:8080/",
          "height": 52
        },
        "outputId": "7a23be9e-53b6-439e-bb2d-53dc0321a6d0"
      },
      "source": [
        "try:\n",
        "  age=int(input())\n",
        "  if age <1:                     #목적에 맞게 입력받아야할 경우(문법상 오류 X)\n",
        "    raise NotImplementedError\n",
        "    print(age)\n",
        "except NotImplementedError:\n",
        "   print(\"AgeException\")"
      ],
      "execution_count": null,
      "outputs": [
        {
          "output_type": "stream",
          "text": [
            "0\n",
            "AgeException\n"
          ],
          "name": "stdout"
        }
      ]
    },
    {
      "cell_type": "markdown",
      "metadata": {
        "id": "RklPhKMRrs_w",
        "colab_type": "text"
      },
      "source": [
        "\n",
        "\n",
        "*   Exception Class 상속\n",
        "\n"
      ]
    },
    {
      "cell_type": "code",
      "metadata": {
        "id": "URUyT8M2evGd",
        "colab_type": "code",
        "colab": {
          "base_uri": "https://localhost:8080/",
          "height": 72
        },
        "outputId": "514b6068-37f5-4ebf-fc2e-a927abc7dc64"
      },
      "source": [
        " class AgeException(Exception):\n",
        "   def __init__(self):\n",
        "    super().__init__(\"0이상을 입력하세요\")\n",
        "\n",
        "\n",
        "def age():\n",
        "  try: \n",
        "    age=int(input(\"나이:\"))\n",
        "    if age<1:\n",
        "      raise AgeException\n",
        "  except AgeException as e:\n",
        "      print(\"예외가 발생했습니다:\",e)\n",
        "  else:\n",
        "      print(\"입력값:\",age) \n",
        "\n",
        "age()\n",
        "\n",
        "\n",
        "\n",
        " class AgeException(Exception):\n",
        "   def __init__(self,msg):\n",
        "     self.msg=msg\n",
        "   def __Str__(self):\n",
        "      return self.msg\n",
        "# pass      \n",
        "\n",
        "age=int(input())\n",
        "if age<1:\n",
        "      raise AgeException(\"0이상을 입력하세요\")\n",
        "else:\n",
        "  print(age)      "
      ],
      "execution_count": null,
      "outputs": [
        {
          "output_type": "stream",
          "text": [
            "나이:0\n",
            "예외가 발생했습니다: 0이상을 입력하세요\n"
          ],
          "name": "stdout"
        }
      ]
    }
  ]
}