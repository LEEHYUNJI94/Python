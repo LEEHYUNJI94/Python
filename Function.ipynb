{
  "nbformat": 4,
  "nbformat_minor": 0,
  "metadata": {
    "colab": {
      "name": "Untitled1.ipynb",
      "provenance": [],
      "authorship_tag": "ABX9TyPRJ6ug3fgCW4M7j5ZeiqI3",
      "include_colab_link": true
    },
    "kernelspec": {
      "name": "python3",
      "display_name": "Python 3"
    }
  },
  "cells": [
    {
      "cell_type": "markdown",
      "metadata": {
        "id": "view-in-github",
        "colab_type": "text"
      },
      "source": [
        "<a href=\"https://colab.research.google.com/github/LEEHYUNJI94/Python/blob/master/Function.ipynb\" target=\"_parent\"><img src=\"https://colab.research.google.com/assets/colab-badge.svg\" alt=\"Open In Colab\"/></a>"
      ]
    },
    {
      "cell_type": "markdown",
      "metadata": {
        "id": "wwCmI8CZ30ad",
        "colab_type": "text"
      },
      "source": [
        "## ▶함수\n",
        "### 1.재귀함수\n",
        "##### 팩토리얼 구하기\n",
        "    -자기자신을 다시 호출하는 함수\n",
        "    -stackflow우려가 있으며, loop보다 시간이 많이 걸림"
      ]
    },
    {
      "cell_type": "code",
      "metadata": {
        "id": "RO_SNWth35F8",
        "colab_type": "code",
        "colab": {}
      },
      "source": [
        "def fa(n):\n",
        "   if n == 1:\n",
        "     return 1\n",
        "   return n*fa(n-1)\n",
        "print(fa(5))  "
      ],
      "execution_count": 0,
      "outputs": []
    },
    {
      "cell_type": "markdown",
      "metadata": {
        "id": "WWQfIZEe39N4",
        "colab_type": "text"
      },
      "source": [
        "### 2.Comprehension 함수\n",
        "    List, Set , Dict, Generator"
      ]
    },
    {
      "cell_type": "code",
      "metadata": {
        "id": "_AyiItL738ty",
        "colab_type": "code",
        "colab": {
          "base_uri": "https://localhost:8080/",
          "height": 193
        },
        "outputId": "ac4b696c-d50d-4596-b3fe-1d2fb83945ba"
      },
      "source": [
        "#Comprehension 함수\n",
        "\n",
        " #배열\n",
        "make_array = [x for x in range(0,57,3) if x%2 ==0]\n",
        "print(type(make_array))\n",
        "print(make_array)\n",
        "\n",
        "#집합 / 이중 for문 사용\n",
        "make_set = {j for i in range(2,9) for j in range(i*20,50,i)} \n",
        "print(type(make_set))\n",
        "print(make_set)\n",
        "\n",
        "#딕셔너리 내포\n",
        "price=[100,500,300,400]  \n",
        "goods=[\"연필\",\"책장\",\"의자\",\"책상\"]\n",
        "goods_pr= {\n",
        "    goods : price for goods, price in zip(goods,price) }\n",
        "print(type(goods_pr))\n",
        "print(goods_pr)\n",
        "\n",
        "#generator 주소값으로 갖고 있음 like 포인터\n",
        "make_gener = (x for x in range(0,43,3) if x%2 ==1)  \n",
        "print(type(make_gener))\n",
        "print(make_gener.__next__())\n",
        "print(make_gener.__next__())\n",
        "print(make_gener.__next__())"
      ],
      "execution_count": 20,
      "outputs": [
        {
          "output_type": "stream",
          "text": [
            "<class 'list'>\n",
            "[0, 6, 12, 18, 24, 30, 36, 42, 48, 54]\n",
            "<class 'set'>\n",
            "{40, 42, 44, 46, 48}\n",
            "<class 'dict'>\n",
            "{'연필': 100, '책장': 500, '의자': 300, '책상': 400}\n",
            "<class 'generator'>\n",
            "3\n",
            "9\n",
            "15\n"
          ],
          "name": "stdout"
        }
      ]
    },
    {
      "cell_type": "markdown",
      "metadata": {
        "id": "-9YrhPuo4EV5",
        "colab_type": "text"
      },
      "source": [
        "### 3.Map함수\n",
        "### 4.Filter함수\n",
        "### 5.Reduce\n",
        "#####  -Lambda함수 사용-\n",
        "    -함수를 즉석해서 생성하고 반환하는 함수"
      ]
    },
    {
      "cell_type": "code",
      "metadata": {
        "id": "BX8QnZsA38ku",
        "colab_type": "code",
        "colab": {
          "base_uri": "https://localhost:8080/",
          "height": 87
        },
        "outputId": "ee74a1f8-0cdc-4ef0-b848-600768bfbb6f"
      },
      "source": [
        "#함수만들기\n",
        "def normal(x) :\n",
        "    return x*x\n",
        "\n",
        "#lambda함수 이용\n",
        "make_lambda=lambda x: x*x\n",
        "\n",
        "#3.map(함수,list)-배열을 함수에 매핑\n",
        "map(normal,make_array)\n",
        "print(list(map(normal,make_array))) #list형으로 만들어 줘야 출력가능\n",
        "print(list(map(make_lambda,make_array)))\n",
        "print(list(map(lambda x:x*x,make_array)))\n",
        "\n",
        "#4.Filter함수(함수,배열)-배열을 함수에 따라 filter\n",
        "for_filter=range(0,10)\n",
        "list(filter(lambda x:x%2==1,for_filter))\n",
        "\n",
        "#5.Reduce"
      ],
      "execution_count": 24,
      "outputs": [
        {
          "output_type": "stream",
          "text": [
            "[0, 36, 144, 324, 576, 900, 1296, 1764, 2304, 2916]\n",
            "[0, 36, 144, 324, 576, 900, 1296, 1764, 2304, 2916]\n",
            "[0, 36, 144, 324, 576, 900, 1296, 1764, 2304, 2916]\n"
          ],
          "name": "stdout"
        },
        {
          "output_type": "execute_result",
          "data": {
            "text/plain": [
              "[1, 3, 5, 7, 9]"
            ]
          },
          "metadata": {
            "tags": []
          },
          "execution_count": 24
        }
      ]
    },
    {
      "cell_type": "markdown",
      "metadata": {
        "id": "Mvw5k6WvN1X6",
        "colab_type": "text"
      },
      "source": [
        "## ▶기본입출력"
      ]
    },
    {
      "cell_type": "code",
      "metadata": {
        "id": "JFWu-3W5N2Iw",
        "colab_type": "code",
        "colab": {
          "base_uri": "https://localhost:8080/",
          "height": 52
        },
        "outputId": "61e2e580-1ac0-4d88-cc90-1cfa6dceac3a"
      },
      "source": [
        "a=input().split(' ')\n",
        "x=int(a[0])\n",
        "y=int(a[1])\n",
        "print(x+y)"
      ],
      "execution_count": 25,
      "outputs": [
        {
          "output_type": "stream",
          "text": [
            "56216 641561\n",
            "697777\n"
          ],
          "name": "stdout"
        }
      ]
    }
  ]
}