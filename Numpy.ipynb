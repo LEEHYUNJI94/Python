{
 "cells": [
  {
   "cell_type": "markdown",
   "metadata": {},
   "source": [
    "### List & Array형"
   ]
  },
  {
   "cell_type": "code",
   "execution_count": null,
   "metadata": {},
   "outputs": [],
   "source": [
    "import numpy as np\n",
    "\n",
    "#이미 만들어 놓은 list\n",
    "list_data = [1,2,3,4,5,6,7]\n",
    "\n",
    "#이미 만들어 놓은 list를 numpy의 array로 만들기\n",
    "array = np.array (list_data)\n",
    "array1 = np.array([[1,2,3,4,5,6,7],[5,0,1,3,80,11,20]])\n",
    "print(array)\n",
    "print(array1)\n",
    "\n",
    "#numpy를 쓰면, array안에 있는 요소들의 size, type 그리고 인덱스를 알 수 있음\n",
    "print(array.dtype)   \n",
    "print(array.size)\n",
    "print(array[2])\n",
    "\n",
    "# #Numpy 배열 객체 복사\n",
    "array2 = np.arange(0,8)\n",
    "# array3=array2\n",
    "# array3[1]=100\n",
    "# print(array2)\n",
    "array3=array2.copy()\n",
    "array3[1]=100\n",
    "print(array2)\n",
    "\n",
    "#중복된 원소 제거\n",
    "remove_dup= ([0,1,1,8,8,5,5,6,6,6,6,6,9])\n",
    "print(np.unique(remove_dup))\n",
    "\n",
    "#array의 type \n",
    "type(array)"
   ]
  },
  {
   "cell_type": "markdown",
   "metadata": {},
   "source": [
    "### 데이터 초기화"
   ]
  },
  {
   "cell_type": "code",
   "execution_count": null,
   "metadata": {},
   "outputs": [],
   "source": [
    "import numpy as np\n",
    "\n",
    "# 0부터 8까지의 배열만들기\n",
    "make_array = np.arange (8)\n",
    "print(make_array)\n",
    "\n",
    "##데이터초기화##\n",
    "\n",
    "# 0으로 값초기화--dtype 선언 필수(?) 0은 실수형태\n",
    "make_zero = np.zeros((4,5), dtype = float)\n",
    "print(make_zero)\n",
    "\n",
    "# 1으로 값초기화--dtype선언 필수(?) 1은 문자열 형태\n",
    "make_one = np.ones((4,5), dtype = str)\n",
    "print(make_one)\n",
    "\n",
    "# 랜덤 함수 사용 random.randint 0부터 8까지(9-1)의 숫자들이 5열6행\n",
    "make_random = np.random.randint(0,9,(5,6))\n",
    "print(make_random)\n",
    "\n",
    "# 평균이 0, 표준편차가 1인 표준 정규배열 \n",
    "make_av_St_dv = np.random.normal(0,1,(3,3))\n",
    "print(make_av_St_dv)\n",
    "\n",
    "#균일 간격 데이터 생성\n",
    "make_line=np.linspace(1,9,4)\n",
    "print(make_line)\n",
    "\n",
    "#고정 난수값\n",
    "np.random.seed(1)\n",
    "make_fix_rand=np.random.randint(1,10,(2,5))\n",
    "print(make_fix_rand)"
   ]
  },
  {
   "cell_type": "markdown",
   "metadata": {},
   "source": [
    "### 배열합치기"
   ]
  },
  {
   "cell_type": "code",
   "execution_count": null,
   "metadata": {},
   "outputs": [],
   "source": [
    "import numpy as np\n",
    "\n",
    "##합치기##\n",
    "\n",
    "# 배열합치기\n",
    "array1 = np.arange(8)\n",
    "array2 = np.arange(5)\n",
    "print(array1)\n",
    "print(array2)\n",
    "# --------------바로 print안에서 concateneate가능 \n",
    "# print(np.concatenate([array1,array2]))\n",
    "array3 = np.concatenate([array1,array2])\n",
    "print(array3)\n",
    "\n",
    "\n",
    "#  배열바꾸기\n",
    "array4 = np.array([0,1,2,3,4,5,6,7]).reshape(2,4)\n",
    "array5 = np.arange(4).reshape(1,4)\n",
    "print(array4)\n",
    "print(array51)\n",
    "\n",
    "# 행으로 배열 합치기\n",
    "array6 = np.concatenate([array4,array51], axis =0)\n",
    "print(array6)"
   ]
  },
  {
   "cell_type": "markdown",
   "metadata": {},
   "source": [
    "### 배열 나누기"
   ]
  },
  {
   "cell_type": "code",
   "execution_count": null,
   "metadata": {},
   "outputs": [],
   "source": [
    "import numpy as np\n",
    "\n",
    "##배열 나누기##\n",
    "\n",
    "array1 = np.array([1,2,8,4,5,6]).reshape(2,3)\n",
    "array2 = np.arange(3).reshape(1,3)\n",
    "array3 = np.concatenate([array1,array2])\n",
    "print(array3)\n",
    "\n",
    "#오른쪽, 왼쪽으로 인덱스로 나누기 ( axis=1축 기준 )#\n",
    "left, right = np.split(array3,[2], axis = 1)\n",
    "print(left.size)\n",
    "print(right.size)\n",
    "print(left)\n",
    "print(right)\n"
   ]
  },
  {
   "cell_type": "markdown",
   "metadata": {},
   "source": [
    "### DATA저장과 불러오기"
   ]
  },
  {
   "cell_type": "code",
   "execution_count": null,
   "metadata": {},
   "outputs": [],
   "source": [
    "import numpy as np\n",
    "\n",
    "##data저장과 불러오기##\n",
    "\n",
    "#한개의 data저장(객체저장)과 불러오기#\n",
    "array = np.arange(0,8)\n",
    "np.save(\"saved.npy\", array)\n",
    "result = np.load(\"saved.npy\")\n",
    "print(result)\n",
    "\n",
    "#두개이상의 data저장과 불러오기#\n",
    "array1 = np.arange(1,7)\n",
    "array2 = np.arange(0,8)\n",
    "np.savez(\"saved.npz\", array1=array1, array2=array2)\n",
    "\n",
    "data = np.load(\"saved.npz\")\n",
    "\n",
    "result1 = data[\"array1\"]\n",
    "result2 = data[\"array2\"]\n",
    "print(result1)\n",
    "print(result2)"
   ]
  },
  {
   "cell_type": "markdown",
   "metadata": {},
   "source": [
    "### SORT"
   ]
  },
  {
   "cell_type": "code",
   "execution_count": null,
   "metadata": {},
   "outputs": [],
   "source": [
    "import numpy as np\n",
    "\n",
    "##배열하기##\n",
    "#오름차순#\n",
    "array1 = np.array([1,9,8,3,5,4,2,0,9])\n",
    "array1.sort()\n",
    "print(array1)\n",
    "\n",
    "#내림차순#\n",
    "print(array1[::-1])\n",
    "\n",
    "#열 기준 정렬#\n",
    "array101 = np.array([[2,6,9,7,0,3,4],[6,1,0,2,9,4,8]])\n",
    "print(array101)\n",
    "array101.sort(axis = 0)\n",
    "print(array101)\n",
    "\n",
    "#원소의 수가 맞지않을 때\n",
    "array101 = np.array([[2,6,9,7,0,3,4],[6,1,0,2,9,4,8,9]])\n",
    "print(array101)\n",
    "array101.sort(axis = 0)\n",
    "print(array101)\n"
   ]
  },
  {
   "cell_type": "markdown",
   "metadata": {},
   "source": [
    "### 기본연산 &브로드캐스팅"
   ]
  },
  {
   "cell_type": "code",
   "execution_count": null,
   "metadata": {},
   "outputs": [],
   "source": [
    "import numpy as np\n",
    "\n",
    "##기본연산##\n",
    "\n",
    "#같은 형태 연산#\n",
    "mult_array=np.array([1,2,3,4,5,8]).reshape(2,3)\n",
    "mult_array_result=mult_array *10\n",
    "print(mult_array_result)\n",
    "\n",
    "#다른 형태 연산#-브로드캐스팅\n",
    "brod_test1=np.arange(1,5).reshape(2,2)\n",
    "brod_test2=np.array([1,2])\n",
    "braod_result=brod_test1 + brod_test2\n",
    "print(braod_result)"
   ]
  },
  {
   "cell_type": "markdown",
   "metadata": {},
   "source": [
    "### 마스킹"
   ]
  },
  {
   "cell_type": "code",
   "execution_count": null,
   "metadata": {},
   "outputs": [],
   "source": [
    "import numpy as np\n",
    "\n",
    "##각 원소를 특정조건에 만족하는 지 확인##\n",
    "\n",
    "masking=np.arange(16).reshape(4,4)\n",
    "print(masking)\n",
    "masking_result=masking < 6\n",
    "print(masking_result)\n",
    "\n",
    "masking[masking_result] = 100\n",
    "print(masking)"
   ]
  },
  {
   "cell_type": "markdown",
   "metadata": {},
   "source": [
    "### 기본연산 함수와 형,열중심 연산"
   ]
  },
  {
   "cell_type": "code",
   "execution_count": null,
   "metadata": {},
   "outputs": [],
   "source": [
    "import numpy as np\n",
    "\n",
    "##기본연산##\n",
    "calcul=np.arange(20).reshape(5,4)\n",
    "print(calcul)\n",
    "print(\"최대값은\",np.max(calcul))\n",
    "print(\"최소값은\", np.min(calcul))\n",
    "print(\"합은\", np.sum(calcul))\n",
    "print(\"평균값은\",np.mean(calcul))\n",
    "\n",
    "#형과 열을 중심으로 연산#---집계함수\n",
    "print(\"행 합\", np.sum(calcul, axis =0))\n",
    "print(\"열 합\", np.sum(calcul, axis =1))"
   ]
  },
  {
   "cell_type": "markdown",
   "metadata": {},
   "source": [
    "### 디맨젼"
   ]
  },
  {
   "cell_type": "code",
   "execution_count": null,
   "metadata": {},
   "outputs": [],
   "source": [
    "import numpy as np\n",
    "\n",
    "##dimension##\n",
    "\n",
    "test=np.array([[[[1,2],[3,4]]]])\n",
    "print(test)\n",
    "test.ndim"
   ]
  }
 ],
 "metadata": {
  "kernelspec": {
   "display_name": "Python 3",
   "language": "python",
   "name": "python3"
  },
  "language_info": {
   "codemirror_mode": {
    "name": "ipython",
    "version": 3
   },
   "file_extension": ".py",
   "mimetype": "text/x-python",
   "name": "python",
   "nbconvert_exporter": "python",
   "pygments_lexer": "ipython3",
   "version": "3.7.4"
  }
 },
 "nbformat": 4,
 "nbformat_minor": 2
}
