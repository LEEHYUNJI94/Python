{
  "nbformat": 4,
  "nbformat_minor": 0,
  "metadata": {
    "colab": {
      "name": "Untitled0.ipynb",
      "provenance": [],
      "collapsed_sections": [],
      "toc_visible": true,
      "authorship_tag": "ABX9TyOBxq0RQ8wZfoM6YAHj9tfv",
      "include_colab_link": true
    },
    "kernelspec": {
      "name": "python3",
      "display_name": "Python 3"
    },
    "accelerator": "GPU"
  },
  "cells": [
    {
      "cell_type": "markdown",
      "metadata": {
        "id": "view-in-github",
        "colab_type": "text"
      },
      "source": [
        "<a href=\"https://colab.research.google.com/github/LEEHYUNJI94/Python/blob/master/Untitled0.ipynb\" target=\"_parent\"><img src=\"https://colab.research.google.com/assets/colab-badge.svg\" alt=\"Open In Colab\"/></a>"
      ]
    },
    {
      "cell_type": "markdown",
      "metadata": {
        "id": "c7wHRB1Vi_s7",
        "colab_type": "text"
      },
      "source": [
        "### 딕셔너리형 & 시리즈형 & 프레임만들기\n",
        "  +슬라이싱"
      ]
    },
    {
      "cell_type": "code",
      "metadata": {
        "id": "K33xeCzejL_6",
        "colab_type": "code",
        "colab": {}
      },
      "source": [
        "import pandas as pd\n",
        "\n",
        "######데이터세팅-DataFrame######\n",
        "name_ser = pd.Series([\"이현지\",\"이둥\",\"julia\",\"아가\"],index = [\"a\",\"b\",\"c\",\"d\"])\n",
        "salary_ser=pd.Series([90000,2000,40000,105],index = [\"a\",\"b\",\"c\",\"d\"] )\n",
        "month_ser=pd.Series([3,6,20,10],index = [\"a\",\"b\",\"c\",\"d\"])\n",
        "\n",
        "result= pd.DataFrame({\n",
        "    \"name\" :name_ser,\n",
        "    \"salary\":salary_ser,\n",
        "    \"month\":month_ser\n",
        "})\n",
        "result[\"total_salary\"] = result[\"salary\"] * result[\"month\"]\n",
        "print(result)\n",
        "######데이터세팅-DataFrame######\n",
        "\n",
        "\n",
        "#####슬라이싱#####\n",
        "###DataFrame안에 loc함수이용\n",
        "##컬럼 슬라이싱\n",
        "#index b~c까지 total_salary컬럼\n",
        "print(result.loc[\"b\":\"c\",\"total_salary\":])\n",
        "\n",
        "##인덱스기준으로 슬라이싱\n",
        "#행(인덱스)1:2->1행, 열3:0->3열\n",
        "print(result.iloc[1:2,3:])\n",
        "\n",
        "##데이터 변경\n",
        "#[]안에 좌표\n",
        "result.loc[\"d\",\"salary\"] = 500\n",
        "\n",
        "##데이터 행삽입\n",
        "#[]행설정 후 값 []안에 배열로 담기\n",
        "result.loc[\"e\"]=[\"구기수\",200,1,200]\n",
        "print(result)"
      ],
      "execution_count": 0,
      "outputs": []
    },
    {
      "cell_type": "markdown",
      "metadata": {
        "id": "VcMQQc2kjTCz",
        "colab_type": "text"
      },
      "source": [
        "### 엑셀형식으로 저장"
      ]
    },
    {
      "cell_type": "code",
      "metadata": {
        "id": "T8Qhe5ZBjcm1",
        "colab_type": "code",
        "colab": {}
      },
      "source": [
        "import pandas as pd\n",
        "######데이터세팅-DataFrame######\n",
        "name_ser = pd.Series([\"이현지\",\"Hyun\",\"julia\",\"Lee\"],index = [\"a\",\"b\",\"c\",\"d\"])\n",
        "salary_ser=pd.Series([90000,2000,40000,105],index = [\"a\",\"b\",\"c\",\"d\"] )\n",
        "month_ser=pd.Series([3,6,20,10],index = [\"a\",\"b\",\"c\",\"d\"])\n",
        "\n",
        "result = pd.DataFrame({\n",
        "    \"name\":name_ser,\n",
        "    \"salary\":salary_ser,\n",
        "    \"month\":month_ser\n",
        "})\n",
        "print(result)\n",
        "######데이터세팅-DataFrame######\n",
        "\n",
        "\n",
        "#####엑셀형식으로 저장하기#####\n",
        "#.to_csv encoding --데이터를 내보낼때 \n",
        "result.to_csv(\"saved.csv\", encoding=\"utf-8-sig\")\n",
        "\n",
        "# read_csv index_col --데이터를 불러 올때\n",
        "result_saved=pd.read_csv(\"saved.csv\", index_col=0)\n",
        "print(result_saved)"
      ],
      "execution_count": 0,
      "outputs": []
    },
    {
      "cell_type": "markdown",
      "metadata": {
        "id": "1zcRQtfLjrIs",
        "colab_type": "text"
      },
      "source": [
        "\n",
        "### Series와 DataFrame연산\n",
        "  +  null 값처리  \n",
        "  +  연산시 값이 없을 때\n",
        "  +  Dataframe바로 만들때\n"
      ]
    },
    {
      "cell_type": "code",
      "metadata": {
        "id": "FhDc3NhnjyHt",
        "colab_type": "code",
        "colab": {}
      },
      "source": [
        "import pandas as pd\n",
        "import numpy as np\n",
        "\n",
        "#####Series로 연산하기#####\n",
        "test1_ser=pd.Series([1,2],index=[\"a\",\"b\"])\n",
        "test2_ser=pd.Series([8,6,2],index=[\"b\",\"c\",\"d\"])\n",
        "print(test1_ser)\n",
        "print(test2_ser)\n",
        "\n",
        "###시리즈를 더할 때, 값이 없는 곳에 0을 채워줌\n",
        "##시리즈 더하기---->Series.add & 0채우기---->fill_value=0\n",
        "result=test1_ser.add(test2_ser,fill_value=0)\n",
        "print(result)\n",
        "\n",
        "#####Dataframe으로 바로 만들어 연산하기#####\n",
        "###DataFrame으로 바로 만들때 사용-\n",
        "##--> [[]],index,columns-----------참고:columns안하면 0,1,2,3...으로 매겨짐\n",
        "test3_ser=pd.DataFrame([[1,2,8],[5,1,4]],\n",
        "                       index=[\"a\",\"b\"],\n",
        "                       columns=[\"1차\",\"2차\",\"3차\"]) #연산불가능 원소 \"a\"\n",
        "test4_ser=pd.DataFrame([[8,6,2,9],[2,5,1,8],[2,5,3]],\n",
        "                       index=[\"b\",\"c\",\"d\"],\n",
        "                       columns=[\"1차\",\"2차\",\"3차\",\"4차\"]) #연산불가능 원소 \"d\"\n",
        "print(test3_ser)\n",
        "print(test4_ser)"
      ],
      "execution_count": 0,
      "outputs": []
    },
    {
      "cell_type": "markdown",
      "metadata": {
        "id": "VY6nLkZijz_r",
        "colab_type": "text"
      },
      "source": [
        "### DataFrame마스킹 & 정렬하기"
      ]
    },
    {
      "cell_type": "code",
      "metadata": {
        "id": "gfGTH4RLj6hc",
        "colab_type": "code",
        "colab": {}
      },
      "source": [
        "#####배열이 다를 때 더하기#--해당 index에 값이 없으면 0#####\n",
        "###원소끼리 연산이 불가능할 시  Nan으로 표시됨###\n",
        "result=test3_ser.add(test4_ser, fill_value=0)\n",
        "print(result)\n",
        "#2차컬럼중 5와 같거나 작은것#\n",
        "print(result[\"2차\"] <= 5)\n",
        "\n",
        "#---------------------------------------------------확인필요------------------------------------------------------------------- \n",
        "# print(result.query(\"1차> 3 and 2차< 20\"))\n",
        "# Message---->Python keyword not valid identifier in numexpr query\n",
        "#---------------------------------------------------확인필요-------------------------------------------------------------------\n",
        "\n",
        "######특정 컬럼의 합######\n",
        "print(\"1차컬럼의 합:\" , result[\"1차\"].sum())\n",
        "\n",
        "######특정컬럼을 중심으로 정렬하기######\n",
        "result=result.sort_values(\"1차\",ascending=False) #ascending=False-> descending\n",
        "print(result)"
      ],
      "execution_count": 0,
      "outputs": []
    },
    {
      "cell_type": "markdown",
      "metadata": {
        "id": "0iKUEGFFj8Ak",
        "colab_type": "text"
      },
      "source": [
        "### DataFrame특정함수 이용하기"
      ]
    },
    {
      "cell_type": "code",
      "metadata": {
        "id": "09FP7Zo6j_qQ",
        "colab_type": "code",
        "colab": {}
      },
      "source": [
        "######lambda함수######\n",
        "###전에 있던 결과값에서 *10을 하는 것\n",
        "result=result.apply(lambda X:X*10)\n",
        "print(result)\n",
        "\n",
        "#####apply이용-함수정의######\n",
        "###결과값을 받아 각 원소에 10을 곱함\n",
        "###apply(정의한함수명)\n",
        "def addOne(x):\n",
        "    return x * 10\n",
        "result=result.apply(addOne)\n",
        "print(result)\n",
        "\n",
        "######replace 함수 정의하기######\n",
        "###replace()안에 {}으로 어떤값을 :어떻게바꿀 것인지 \n",
        "result=result.replace({200:201})\n",
        "print(result)\n",
        "\n",
        "\n",
        "##형변환##\n",
        "# result.dtypes\n",
        "# result.astype('float')\n",
        "# # result.astype('float')"
      ],
      "execution_count": 0,
      "outputs": []
    },
    {
      "cell_type": "markdown",
      "metadata": {
        "id": "p_SBUxhckB2F",
        "colab_type": "text"
      },
      "source": [
        "### DataFrame 그루핑 & 필터"
      ]
    },
    {
      "cell_type": "code",
      "metadata": {
        "id": "jVtqqYATkHWD",
        "colab_type": "code",
        "colab": {}
      },
      "source": [
        "import pandas as pd\n",
        "import numpy as np\n",
        "######데이터세팅-DataFrame######\n",
        "Daf=pd.DataFrame([\n",
        "                ['Apple',7,5,'Fruit'],\n",
        "                ['Banna',8,1,'Fruit'],\n",
        "                ['Tomato',1,6,'Vege'],\n",
        "                ['Carrot',4,3,'Vege']],\n",
        "            columns=[\"이름\",\"freq\",\"impo\",\"타입\"])\n",
        "print(Daf)\n",
        "######데이터세팅-DataFrame######\n",
        "\n",
        "\n",
        "######그룹바이 한 컬럼의 합계구하기######\n",
        "###DataFrame.groupby(컬럼명).sum\n",
        "print(Daf.groupby(\"타입\").sum())\n",
        "\n",
        "######그룹바이 한 집합별로 연산하기#####\n",
        "###DataFrame.groupby(컬럼명).aggregate->집합([배열])\n",
        "print(Daf.groupby('타입').aggregate([min,max, np.average]))\n",
        "\n",
        "#####FILTER#####\n",
        "###함수정의 .mean() >\n",
        "def filteron(x):\n",
        "    return x [\"impo\"].mean() <4\n",
        "##groupby(컬럼명).filter(정의한 함수)\n",
        "Daf=Daf.groupby(\"타입\").filter(filteron)\n",
        "print(Daf)\n",
        "            \n",
        "###그룹바이 한 컬럼중 특정 데이터만 filter\n",
        "print(Daf.groupby(\"타입\").get_group(\"Fruit\"))\n",
        "\n",
        "####\n",
        "## groupby.(그룹바이할 컬럼명).[연산될 컬럼].apply(.mean)-연산될 컬럼의 mean\n",
        "Daf[\"Gap\"]=Daf.groupby(\"타입\")[\"freq\"].apply(lambda x:x-x.mean())\n",
        "print(Daf)"
      ],
      "execution_count": 0,
      "outputs": []
    },
    {
      "cell_type": "markdown",
      "metadata": {
        "id": "kvZZiY-NkIEc",
        "colab_type": "text"
      },
      "source": [
        "### DataFrame의 다중화"
      ]
    },
    {
      "cell_type": "code",
      "metadata": {
        "id": "q-GE3zfzkK98",
        "colab_type": "code",
        "colab": {}
      },
      "source": [
        "import pandas as pd\n",
        "import numpy as np\n",
        "Df=pd.DataFrame(\n",
        "np.random.randint(1,10,(4,5)),\n",
        "index=[[\"1차\",\"1차\",\"2차\",\"2차\"],[\"공격\",\"수비\",\"공격\",\"수비\"]],\n",
        "columns=[\"1회\",\"2회\",\"3회\",\"4회\",\"5회\"])\n",
        "print(Df)\n",
        "print(Df[[\"2회\",\"3회\"]].loc[\"1차\"])\n",
        "print(Df[[\"2회\",\"3회\"]])"
      ],
      "execution_count": 0,
      "outputs": []
    },
    {
      "cell_type": "markdown",
      "metadata": {
        "id": "UTvE647WkM7k",
        "colab_type": "text"
      },
      "source": [
        "### DataFrame 피벗함수"
      ]
    },
    {
      "cell_type": "code",
      "metadata": {
        "id": "TIYYHlGakPlk",
        "colab_type": "code",
        "colab": {}
      },
      "source": [
        "import pandas as pd\n",
        "import numpy as np\n",
        "######데이터세팅-DataFrame######\n",
        "Daf=pd.DataFrame([\n",
        "                ['Apple',7,5,'Fruit'],\n",
        "                ['Banna',8,1,'Fruit'],\n",
        "                ['Tomato',1,6,'Vege'],\n",
        "                ['Carrot',4,3,'Vege']],\n",
        "            columns=[\"이름\",\"freq\",\"impo\",\"타입\"])\n",
        "print(Daf)\n",
        "######데이터세팅-DataFrame######\n",
        "\n",
        "\n",
        "#####DataFrame 피벗함수#####\n",
        "###aggfunc으로 frequ중에 큰값 불러오기\n",
        "Daf=Daf.pivot_table(\n",
        "    index=\"impo\", columns=\"타입\",values=\"freq\",\n",
        "    aggfunc=np.max\n",
        ")\n",
        "print(Daf)"
      ],
      "execution_count": 0,
      "outputs": []
    },
    {
      "cell_type": "markdown",
      "metadata": {
        "id": "ruff8IpgkSYh",
        "colab_type": "text"
      },
      "source": [
        "### 연습\n",
        "  +슬라이싱\n",
        "  +NULL값처리"
      ]
    },
    {
      "cell_type": "code",
      "metadata": {
        "id": "_Vc7MXgokR5k",
        "colab_type": "code",
        "colab": {}
      },
      "source": [
        "import pandas as pd\n",
        "import numpy as np\n",
        "\n",
        "##NULL값처리##\n",
        "\n",
        "ID_ser=pd.Series([\"교촌치킨\",\"착한식당\",\"피자\",\"와라와라\"],index=[\"GC2020\",\"CHS2020\",\"PZ2020\",\"WA2020\"])\n",
        "Freq_ser=pd.Series([12,50,47,2],index=[\"GC2020\",\"CHS2020\",\"PZ2020\",\"WA2020\"])\n",
        "Fee_ser=pd.Series([5000,3000,3000,np.nan],index=[\"GC2020\",\"CHS2020\",\"PZ2020\",\"WA2020\"])\n",
        "\n",
        "result=pd.DataFrame({\n",
        "    \"ID\"  : ID_ser,\n",
        "    \"Freq\" : Freq_ser,\n",
        "    \"unit Fee\": Fee_ser\n",
        "})\n",
        "\n",
        "result[\"total_amt_ser\"]= result[\"Freq\"]*result[\"unit Fee\"]\n",
        "print(result)\n",
        "# --*--연습-슬라이싱#\n",
        "print(result.loc[\"GC2020\":\"CHS2020\",:\"ID\"])\n",
        "# --*--연습-데이터삽입#\n",
        "result.loc[\"HJ2020\"]=[\"현지\",900,100,90000]\n",
        "print(result)\n",
        "# --*--연습-데이터변경#\n",
        "result.loc[\"WA2020\",\"ID\"]=\"어서와라와라\"\n",
        "print(result)\n",
        "\n",
        "#Null값처리#\n",
        "print(result.isnull())\n",
        "print(result.notnull())\n",
        "result[\"unit Fee\"]=result[\"unit Fee\"].fillna(\"데이터없음\")\n",
        "print(result)"
      ],
      "execution_count": 0,
      "outputs": []
    }
  ]
}