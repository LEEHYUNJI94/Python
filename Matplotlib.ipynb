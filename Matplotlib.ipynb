{
  "nbformat": 4,
  "nbformat_minor": 0,
  "metadata": {
    "colab": {
      "name": "Untitled1.ipynb",
      "provenance": [],
      "authorship_tag": "ABX9TyOLiYOhijSHF8nruiPCID9t",
      "include_colab_link": true
    },
    "kernelspec": {
      "name": "python3",
      "display_name": "Python 3"
    }
  },
  "cells": [
    {
      "cell_type": "markdown",
      "metadata": {
        "id": "view-in-github",
        "colab_type": "text"
      },
      "source": [
        "<a href=\"https://colab.research.google.com/github/LEEHYUNJI94/Python/blob/master/Matplotlib.ipynb\" target=\"_parent\"><img src=\"https://colab.research.google.com/assets/colab-badge.svg\" alt=\"Open In Colab\"/></a>"
      ]
    },
    {
      "cell_type": "markdown",
      "metadata": {
        "id": "Bow4V4u7m41H",
        "colab_type": "text"
      },
      "source": [
        "### 간단한 직선그래프 그리기"
      ]
    },
    {
      "cell_type": "code",
      "metadata": {
        "id": "oG9E9aMkm7PM",
        "colab_type": "code",
        "colab": {}
      },
      "source": [
        "import matplotlib.pyplot as plt   #pyplot라이브러리 \n",
        "x=[1,2,3,4] #1차원 리스트\n",
        "y=[5,9,10,15] #1차원 리스트\n",
        "\n",
        "plt.plot(x,y)\n",
        "plt.title(\"my plot\") #그래프이름\n",
        "plt.xlabel(\"x\")    #X축의 이름\n",
        "plt.ylabel(\"y\")    #Y축의 이름\n",
        "plt.show()          #show함수를 쓰지 않아도 결과확인 가능\n",
        "plt.savefig(\"poto저장.png\")     #그래프저장하기"
      ],
      "execution_count": 0,
      "outputs": []
    },
    {
      "cell_type": "markdown",
      "metadata": {
        "id": "BcjDX3JRm7dZ",
        "colab_type": "text"
      },
      "source": [
        "### 다수그래프 저장\n",
        "  +fig,axes"
      ]
    },
    {
      "cell_type": "markdown",
      "metadata": {
        "id": "20itS4JLm7mA",
        "colab_type": "text"
      },
      "source": [
        ""
      ]
    },
    {
      "cell_type": "code",
      "metadata": {
        "id": "Pc70HpmGnH4h",
        "colab_type": "code",
        "colab": {}
      },
      "source": [
        "import matplotlib.pyplot as plt\n",
        "import numpy as np\n",
        "\n",
        "x=np.linspace(0,np.pi * 10,500) # PI*10너비에 500개의 점을 균일하게 찍기\n",
        "fig,axes = plt.subplots(2,1)    #2개의 그래프가 들어가는 figure 생성 2행1열 형태\n",
        "axes[0].plot(x,np.sin(x))       #첫 번째 그래프는 사인(sin)그래프\n",
        "axes[1].plot(x,np.cos(x))       #두 번째 그래프는 코사인(cos)그래프\n",
        "fig.savefig(\"sincos.png\")"
      ],
      "execution_count": 0,
      "outputs": []
    },
    {
      "cell_type": "markdown",
      "metadata": {
        "id": "VlPL7kBlm7t5",
        "colab_type": "text"
      },
      "source": [
        "### 선그래프에 설명 추가하기\n"
      ]
    },
    {
      "cell_type": "code",
      "metadata": {
        "id": "9pGfKY5_m7yw",
        "colab_type": "code",
        "colab": {}
      },
      "source": [
        "import matplotlib.pyplot as plt\n",
        "import numpy as np\n",
        "\n",
        "x=np.arange(-20,20)\n",
        "y1=x**2\n",
        "y2=x-10\n",
        "plt.plot(x,y1, \n",
        "         linestyle='-', \n",
        "         marker='o',\n",
        "         markersize=8,\n",
        "         markerfacecolor=\"yellow\",\n",
        "         markeredgecolor=\"green\", \n",
        "         label=\"y=x**2\"\n",
        "        )\n",
        "plt.plot(x,y2, \n",
        "         linestyle=\"-\", \n",
        "         marker=\"*\", \n",
        "         color=\"red\", \n",
        "         label=\"x-10\")\n",
        "plt.xlabel(\"x\")\n",
        "plt.ylabel(\"y\")\n",
        "plt.legend(\n",
        "            shadow=\"true\",\n",
        "            borderpad=1\n",
        ")\n",
        "plt.show()"
      ],
      "execution_count": 0,
      "outputs": []
    },
    {
      "cell_type": "markdown",
      "metadata": {
        "id": "5m2Jhi6onQIW",
        "colab_type": "text"
      },
      "source": [
        "### 막대그래프 그리기\n",
        "  +누적막대그래프 그리기"
      ]
    },
    {
      "cell_type": "code",
      "metadata": {
        "id": "HC00XnFSnVxz",
        "colab_type": "code",
        "colab": {}
      },
      "source": [
        "\n",
        "import matplotlib.pyplot as plt\n",
        "import numpy as np\n",
        "\n",
        "#####plt.bar를 이용해 막대그래프 그리기#####\n",
        "x=np.arange(-20,20)\n",
        "plt.bar(x,x**2)\n",
        "plt1=plt\n",
        "plt1.show()\n",
        "\n",
        "#####누적막대그래프 그리기#####\n",
        "x=np.random.rand(10)  #아래 막대 rand->0~1사이의 값을 n개\n",
        "y=np.random.rand(10)  #중간 막대 \n",
        "z=np.random.rand(10)  #위 막대\n",
        "test_plt=[x,y,z]      #bar저장\n",
        "x_array=np.arange(10) #x축의 값(X의 위치설정)\n",
        "for i in range(0,3):\n",
        "    plt.bar(\n",
        "    x_array,\n",
        "    test_plt[i],\n",
        "    bottom=np.sum(test_plt[:1], axis=0)   #bottom= Data들의 합부터 출발=x의 합위에서 y시작=누적\n",
        "          )\n",
        "plt.show()"
      ],
      "execution_count": 0,
      "outputs": []
    },
    {
      "cell_type": "markdown",
      "metadata": {
        "id": "_XhHAB5FnZoN",
        "colab_type": "text"
      },
      "source": [
        "### 스캐터 그래프 그리기"
      ]
    },
    {
      "cell_type": "code",
      "metadata": {
        "id": "EILFfz_CnZt6",
        "colab_type": "code",
        "colab": {}
      },
      "source": [
        "import matplotlib.pyplot as plt\n",
        "import numpy as np\n",
        "\n",
        "x=np.random.rand(10)\n",
        "y=np.random.rand(10)\n",
        "colors=np.random.randint(0,100,10)     #동그라미 색깔설정\n",
        "sizes=np.pi* 1000*np.random.rand(10)   ##동그라미 크기설정\n",
        "plt.scatter(x,y,\n",
        "            c=colors, s=sizes, alpha=0.9) #alpha = 투명도\n",
        "plt.show()"
      ],
      "execution_count": 0,
      "outputs": []
    }
  ]
}