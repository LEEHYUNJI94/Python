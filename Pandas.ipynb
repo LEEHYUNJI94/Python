{
 "cells": [
  {
   "cell_type": "markdown",
   "metadata": {},
   "source": [
    "### 딕셔너리형 & 시리즈형 & 프레임만들기\n",
    "    +슬라이싱"
   ]
  },
  {
   "cell_type": "code",
   "execution_count": 229,
   "metadata": {
    "scrolled": true
   },
   "outputs": [
    {
     "name": "stdout",
     "output_type": "stream",
     "text": [
      "    name  salary  month  total_salary\n",
      "a    이현지   90000      3        270000\n",
      "b     이둥    2000      6         12000\n",
      "c  julia   40000     20        800000\n",
      "d     아가     105     10          1050\n",
      "   total_salary\n",
      "b         12000\n",
      "c        800000\n",
      "   total_salary\n",
      "b         12000\n",
      "    name  salary  month  total_salary\n",
      "a    이현지   90000      3        270000\n",
      "b     이둥    2000      6         12000\n",
      "c  julia   40000     20        800000\n",
      "d     아가     500     10          1050\n",
      "e    구기수     200      1           200\n"
     ]
    }
   ],
   "source": [
    "import pandas as pd\n",
    "\n",
    "######데이터세팅-DataFrame######\n",
    "name_ser = pd.Series([\"이현지\",\"이둥\",\"julia\",\"아가\"],index = [\"a\",\"b\",\"c\",\"d\"])\n",
    "salary_ser=pd.Series([90000,2000,40000,105],index = [\"a\",\"b\",\"c\",\"d\"] )\n",
    "month_ser=pd.Series([3,6,20,10],index = [\"a\",\"b\",\"c\",\"d\"])\n",
    "\n",
    "result= pd.DataFrame({\n",
    "    \"name\" :name_ser,\n",
    "    \"salary\":salary_ser,\n",
    "    \"month\":month_ser\n",
    "})\n",
    "result[\"total_salary\"] = result[\"salary\"] * result[\"month\"]\n",
    "print(result)\n",
    "######데이터세팅-DataFrame######\n",
    "\n",
    "\n",
    "#####슬라이싱#####\n",
    "###DataFrame안에 loc함수이용\n",
    "##컬럼 슬라이싱\n",
    "#index b~c까지 total_salary컬럼\n",
    "print(result.loc[\"b\":\"c\",\"total_salary\":])\n",
    "\n",
    "##인덱스기준으로 슬라이싱\n",
    "#행(인덱스)1:2->1행, 열3:0->3열\n",
    "print(result.iloc[1:2,3:])\n",
    "\n",
    "##데이터 변경\n",
    "#[]안에 좌표\n",
    "result.loc[\"d\",\"salary\"] = 500\n",
    "\n",
    "##데이터 행삽입\n",
    "#[]행설정 후 값 []안에 배열로 담기\n",
    "result.loc[\"e\"]=[\"구기수\",200,1,200]\n",
    "print(result)"
   ]
  },
  {
   "cell_type": "markdown",
   "metadata": {},
   "source": [
    "### 엑셀형식으로 저장"
   ]
  },
  {
   "cell_type": "code",
   "execution_count": 29,
   "metadata": {},
   "outputs": [
    {
     "name": "stdout",
     "output_type": "stream",
     "text": [
      "    name  salary  month\n",
      "a    이현지   90000      3\n",
      "b   Hyun    2000      6\n",
      "c  julia   40000     20\n",
      "d    Lee     105     10\n",
      "    name  salary  month\n",
      "a    이현지   90000      3\n",
      "b   Hyun    2000      6\n",
      "c  julia   40000     20\n",
      "d    Lee     105     10\n"
     ]
    }
   ],
   "source": [
    "import pandas as pd\n",
    "######데이터세팅-DataFrame######\n",
    "name_ser = pd.Series([\"이현지\",\"Hyun\",\"julia\",\"Lee\"],index = [\"a\",\"b\",\"c\",\"d\"])\n",
    "salary_ser=pd.Series([90000,2000,40000,105],index = [\"a\",\"b\",\"c\",\"d\"] )\n",
    "month_ser=pd.Series([3,6,20,10],index = [\"a\",\"b\",\"c\",\"d\"])\n",
    "\n",
    "result = pd.DataFrame({\n",
    "    \"name\":name_ser,\n",
    "    \"salary\":salary_ser,\n",
    "    \"month\":month_ser\n",
    "})\n",
    "print(result)\n",
    "######데이터세팅-DataFrame######\n",
    "\n",
    "\n",
    "#####엑셀형식으로 저장하기#####\n",
    "#.to_csv encoding --데이터를 내보낼때 \n",
    "result.to_csv(\"saved.csv\", encoding=\"utf-8-sig\")\n",
    "\n",
    "# read_csv index_col --데이터를 불러 올때\n",
    "result_saved=pd.read_csv(\"saved.csv\", index_col=0)\n",
    "print(result_saved)\n",
    "\n"
   ]
  },
  {
   "cell_type": "markdown",
   "metadata": {},
   "source": [
    "### Series와 DataFrame연산\n",
    "    +  null 값처리  \n",
    "    +  연산시 값이 없을 때\n",
    "    +  Dataframe바로 만들때"
   ]
  },
  {
   "cell_type": "code",
   "execution_count": 231,
   "metadata": {},
   "outputs": [
    {
     "name": "stdout",
     "output_type": "stream",
     "text": [
      "a    1\n",
      "b    2\n",
      "dtype: int64\n",
      "b    8\n",
      "c    6\n",
      "d    2\n",
      "dtype: int64\n",
      "a    False\n",
      "b    False\n",
      "c    False\n",
      "d    False\n",
      "dtype: bool\n",
      "a    True\n",
      "b    True\n",
      "c    True\n",
      "d    True\n",
      "dtype: bool\n",
      "a     1.0\n",
      "b    10.0\n",
      "c     6.0\n",
      "d     2.0\n",
      "dtype: float64\n",
      "   1차  2차  3차\n",
      "a   1   2   8\n",
      "b   5   1   4\n",
      "   1차  2차  3차   4차\n",
      "b   8   6   2  9.0\n",
      "c   2   5   1  8.0\n",
      "d   2   5   3  NaN\n"
     ]
    }
   ],
   "source": [
    "import pandas as pd\n",
    "import numpy as np\n",
    "\n",
    "#####Series로 연산하기#####\n",
    "test1_ser=pd.Series([1,2],index=[\"a\",\"b\"])\n",
    "test2_ser=pd.Series([8,6,2],index=[\"b\",\"c\",\"d\"])\n",
    "print(test1_ser)\n",
    "print(test2_ser)\n",
    "\n",
    "###시리즈를 더할 때, 값이 없는 곳에 0을 채워줌\n",
    "##시리즈 더하기---->Series.add & 0채우기---->fill_value=0\n",
    "result=test1_ser.add(test2_ser,fill_value=0)\n",
    "print(result)\n",
    "\n",
    "#####Dataframe으로 바로 만들어 연산하기#####\n",
    "###DataFrame으로 바로 만들때 사용-\n",
    "##--> [[]],index,columns-----------참고:columns안하면 0,1,2,3...으로 매겨짐\n",
    "test3_ser=pd.DataFrame([[1,2,8],[5,1,4]],\n",
    "                       index=[\"a\",\"b\"],\n",
    "                       columns=[\"1차\",\"2차\",\"3차\"]) #연산불가능 원소 \"a\"\n",
    "test4_ser=pd.DataFrame([[8,6,2,9],[2,5,1,8],[2,5,3]],\n",
    "                       index=[\"b\",\"c\",\"d\"],\n",
    "                       columns=[\"1차\",\"2차\",\"3차\",\"4차\"]) #연산불가능 원소 \"d\"\n",
    "print(test3_ser)\n",
    "print(test4_ser)"
   ]
  },
  {
   "cell_type": "markdown",
   "metadata": {},
   "source": [
    "### DataFrame마스킹 & 정렬하기"
   ]
  },
  {
   "cell_type": "code",
   "execution_count": 174,
   "metadata": {},
   "outputs": [
    {
     "name": "stdout",
     "output_type": "stream",
     "text": [
      "     1차   2차   3차   4차\n",
      "a   1.0  2.0  8.0  NaN\n",
      "b  13.0  7.0  6.0  9.0\n",
      "c   2.0  5.0  1.0  8.0\n",
      "d   2.0  5.0  NaN  NaN\n",
      "a     True\n",
      "b    False\n",
      "c     True\n",
      "d     True\n",
      "Name: 2차, dtype: bool\n",
      "1차컬럼의 합: 18.0\n",
      "     1차   2차   3차   4차\n",
      "b  13.0  7.0  6.0  9.0\n",
      "c   2.0  5.0  1.0  8.0\n",
      "d   2.0  5.0  NaN  NaN\n",
      "a   1.0  2.0  8.0  NaN\n"
     ]
    }
   ],
   "source": [
    "#####배열이 다를 때 더하기#--해당 index에 값이 없으면 0#####\n",
    "###원소끼리 연산이 불가능할 시  Nan으로 표시됨###\n",
    "result=test3_ser.add(test4_ser, fill_value=0)\n",
    "print(result)\n",
    "#2차컬럼중 5와 같거나 작은것#\n",
    "print(result[\"2차\"] <= 5)\n",
    "\n",
    "#---------------------------------------------------확인필요------------------------------------------------------------------- \n",
    "# print(result.query(\"1차> 3 and 2차< 20\"))\n",
    "# Message---->Python keyword not valid identifier in numexpr query\n",
    "#---------------------------------------------------확인필요-------------------------------------------------------------------\n",
    "\n",
    "######특정 컬럼의 합######\n",
    "print(\"1차컬럼의 합:\" , result[\"1차\"].sum())\n",
    "\n",
    "######특정컬럼을 중심으로 정렬하기######\n",
    "result=result.sort_values(\"1차\",ascending=False) #ascending=False-> descending\n",
    "print(result)"
   ]
  },
  {
   "cell_type": "markdown",
   "metadata": {},
   "source": [
    "### DataFrame특정함수 이용하기"
   ]
  },
  {
   "cell_type": "code",
   "execution_count": 175,
   "metadata": {
    "scrolled": true
   },
   "outputs": [
    {
     "name": "stdout",
     "output_type": "stream",
     "text": [
      "      1차    2차    3차    4차\n",
      "b  130.0  70.0  60.0  90.0\n",
      "c   20.0  50.0  10.0  80.0\n",
      "d   20.0  50.0   NaN   NaN\n",
      "a   10.0  20.0  80.0   NaN\n",
      "       1차     2차     3차     4차\n",
      "b  1300.0  700.0  600.0  900.0\n",
      "c   200.0  500.0  100.0  800.0\n",
      "d   200.0  500.0    NaN    NaN\n",
      "a   100.0  200.0  800.0    NaN\n",
      "       1차     2차     3차     4차\n",
      "b  1300.0  700.0  600.0  900.0\n",
      "c   201.0  500.0  100.0  800.0\n",
      "d   201.0  500.0    NaN    NaN\n",
      "a   100.0  201.0  800.0    NaN\n"
     ]
    }
   ],
   "source": [
    "######lambda함수######\n",
    "###전에 있던 결과값에서 *10을 하는 것\n",
    "result=result.apply(lambda X:X*10)\n",
    "print(result)\n",
    "\n",
    "#####apply이용-함수정의######\n",
    "###결과값을 받아 각 원소에 10을 곱함\n",
    "###apply(정의한함수명)\n",
    "def addOne(x):\n",
    "    return x * 10\n",
    "result=result.apply(addOne)\n",
    "print(result)\n",
    "\n",
    "######replace 함수 정의하기######\n",
    "###replace()안에 {}으로 어떤값을 :어떻게바꿀 것인지 \n",
    "result=result.replace({200:201})\n",
    "print(result)\n",
    "\n",
    "\n",
    "##형변환##\n",
    "# result.dtypes\n",
    "# result.astype('float')\n",
    "# # result.astype('float')"
   ]
  },
  {
   "cell_type": "markdown",
   "metadata": {},
   "source": [
    "### DataFrame 그루핑 & 필터"
   ]
  },
  {
   "cell_type": "code",
   "execution_count": 1,
   "metadata": {
    "scrolled": true
   },
   "outputs": [
    {
     "name": "stdout",
     "output_type": "stream",
     "text": [
      "       이름  freq  impo     타입\n",
      "0   Apple     7     5  Fruit\n",
      "1   Banna     8     1  Fruit\n",
      "2  Tomato     1     6   Vege\n",
      "3  Carrot     4     3   Vege\n",
      "       freq  impo\n",
      "타입               \n",
      "Fruit    15     6\n",
      "Vege      5     9\n",
      "      freq             impo            \n",
      "       min max average  min max average\n",
      "타입                                     \n",
      "Fruit    7   8     7.5    1   5     3.0\n",
      "Vege     1   4     2.5    3   6     4.5\n",
      "      이름  freq  impo     타입\n",
      "0  Apple     7     5  Fruit\n",
      "1  Banna     8     1  Fruit\n",
      "      이름  freq  impo     타입\n",
      "0  Apple     7     5  Fruit\n",
      "1  Banna     8     1  Fruit\n",
      "      이름  freq  impo     타입  Gap\n",
      "0  Apple     7     5  Fruit -0.5\n",
      "1  Banna     8     1  Fruit  0.5\n"
     ]
    }
   ],
   "source": [
    "import pandas as pd\n",
    "import numpy as np\n",
    "######데이터세팅-DataFrame######\n",
    "Daf=pd.DataFrame([\n",
    "                ['Apple',7,5,'Fruit'],\n",
    "                ['Banna',8,1,'Fruit'],\n",
    "                ['Tomato',1,6,'Vege'],\n",
    "                ['Carrot',4,3,'Vege']],\n",
    "            columns=[\"이름\",\"freq\",\"impo\",\"타입\"])\n",
    "print(Daf)\n",
    "######데이터세팅-DataFrame######\n",
    "\n",
    "\n",
    "######그룹바이 한 컬럼의 합계구하기######\n",
    "###DataFrame.groupby(컬럼명).sum\n",
    "print(Daf.groupby(\"타입\").sum())\n",
    "\n",
    "######그룹바이 한 집합별로 연산하기#####\n",
    "###DataFrame.groupby(컬럼명).aggregate->집합([배열])\n",
    "print(Daf.groupby('타입').aggregate([min,max, np.average]))\n",
    "\n",
    "#####FILTER#####\n",
    "###함수정의 .mean() >\n",
    "def filteron(x):\n",
    "    return x [\"impo\"].mean() <4\n",
    "##groupby(컬럼명).filter(정의한 함수)\n",
    "Daf=Daf.groupby(\"타입\").filter(filteron)\n",
    "print(Daf)\n",
    "            \n",
    "###그룹바이 한 컬럼중 특정 데이터만 filter\n",
    "print(Daf.groupby(\"타입\").get_group(\"Fruit\"))\n",
    "\n",
    "####\n",
    "## groupby.(그룹바이할 컬럼명).[연산될 컬럼].apply(.mean)-연산될 컬럼의 mean\n",
    "Daf[\"Gap\"]=Daf.groupby(\"타입\")[\"freq\"].apply(lambda x:x-x.mean())\n",
    "print(Daf)"
   ]
  },
  {
   "cell_type": "markdown",
   "metadata": {},
   "source": [
    "### DataFrame의 다중화"
   ]
  },
  {
   "cell_type": "code",
   "execution_count": 247,
   "metadata": {},
   "outputs": [
    {
     "name": "stdout",
     "output_type": "stream",
     "text": [
      "       1회  2회  3회  4회  5회\n",
      "1차 공격   6   5   8   8   2\n",
      "   수비   9   3   4   1   1\n",
      "2차 공격   9   7   2   9   2\n",
      "   수비   3   9   1   3   7\n",
      "    2회  3회\n",
      "공격   5   8\n",
      "수비   3   4\n",
      "       2회  3회\n",
      "1차 공격   5   8\n",
      "   수비   3   4\n",
      "2차 공격   7   2\n",
      "   수비   9   1\n"
     ]
    }
   ],
   "source": [
    "import pandas as pd\n",
    "import numpy as np\n",
    "Df=pd.DataFrame(\n",
    "np.random.randint(1,10,(4,5)),\n",
    "index=[[\"1차\",\"1차\",\"2차\",\"2차\"],[\"공격\",\"수비\",\"공격\",\"수비\"]],\n",
    "columns=[\"1회\",\"2회\",\"3회\",\"4회\",\"5회\"])\n",
    "print(Df)\n",
    "print(Df[[\"2회\",\"3회\"]].loc[\"1차\"])\n",
    "print(Df[[\"2회\",\"3회\"]])"
   ]
  },
  {
   "cell_type": "markdown",
   "metadata": {},
   "source": [
    "### DataFrame 피벗함수"
   ]
  },
  {
   "cell_type": "code",
   "execution_count": 256,
   "metadata": {},
   "outputs": [
    {
     "name": "stdout",
     "output_type": "stream",
     "text": [
      "       이름  freq  impo     타입\n",
      "0   Apple     7     5  Fruit\n",
      "1   Banna     8     1  Fruit\n",
      "2  Tomato     1     6   Vege\n",
      "3  Carrot     4     3   Vege\n",
      "타입    Fruit  Vege\n",
      "impo             \n",
      "1       8.0   NaN\n",
      "3       NaN   4.0\n",
      "5       7.0   NaN\n",
      "6       NaN   1.0\n"
     ]
    }
   ],
   "source": [
    "import pandas as pd\n",
    "import numpy as np\n",
    "######데이터세팅-DataFrame######\n",
    "Daf=pd.DataFrame([\n",
    "                ['Apple',7,5,'Fruit'],\n",
    "                ['Banna',8,1,'Fruit'],\n",
    "                ['Tomato',1,6,'Vege'],\n",
    "                ['Carrot',4,3,'Vege']],\n",
    "            columns=[\"이름\",\"freq\",\"impo\",\"타입\"])\n",
    "print(Daf)\n",
    "######데이터세팅-DataFrame######\n",
    "\n",
    "\n",
    "#####DataFrame 피벗함수#####\n",
    "###aggfunc으로 frequ중에 큰값 불러오기\n",
    "Daf=Daf.pivot_table(\n",
    "    index=\"impo\", columns=\"타입\",values=\"freq\",\n",
    "    aggfunc=np.max\n",
    ")\n",
    "print(Daf)"
   ]
  },
  {
   "cell_type": "markdown",
   "metadata": {},
   "source": [
    "### 연습\n",
    "    +슬라이싱\n",
    "    +Null값처리"
   ]
  },
  {
   "cell_type": "code",
   "execution_count": 48,
   "metadata": {},
   "outputs": [
    {
     "name": "stdout",
     "output_type": "stream",
     "text": [
      "           ID  Freq  unit Fee  total_amt_ser\n",
      "GC2020   교촌치킨    12    5000.0        60000.0\n",
      "CHS2020  착한식당    50    3000.0       150000.0\n",
      "PZ2020     피자    47    3000.0       141000.0\n",
      "WA2020   와라와라     2       NaN            NaN\n",
      "           ID\n",
      "GC2020   교촌치킨\n",
      "CHS2020  착한식당\n",
      "           ID  Freq  unit Fee  total_amt_ser\n",
      "GC2020   교촌치킨    12    5000.0        60000.0\n",
      "CHS2020  착한식당    50    3000.0       150000.0\n",
      "PZ2020     피자    47    3000.0       141000.0\n",
      "WA2020   와라와라     2       NaN            NaN\n",
      "HJ2020     현지   900     100.0        90000.0\n",
      "             ID  Freq  unit Fee  total_amt_ser\n",
      "GC2020     교촌치킨    12    5000.0        60000.0\n",
      "CHS2020    착한식당    50    3000.0       150000.0\n",
      "PZ2020       피자    47    3000.0       141000.0\n",
      "WA2020   어서와라와라     2       NaN            NaN\n",
      "HJ2020       현지   900     100.0        90000.0\n",
      "            ID   Freq  unit Fee  total_amt_ser\n",
      "GC2020   False  False     False          False\n",
      "CHS2020  False  False     False          False\n",
      "PZ2020   False  False     False          False\n",
      "WA2020   False  False      True           True\n",
      "HJ2020   False  False     False          False\n",
      "           ID  Freq  unit Fee  total_amt_ser\n",
      "GC2020   True  True      True           True\n",
      "CHS2020  True  True      True           True\n",
      "PZ2020   True  True      True           True\n",
      "WA2020   True  True     False          False\n",
      "HJ2020   True  True      True           True\n",
      "             ID  Freq unit Fee  total_amt_ser\n",
      "GC2020     교촌치킨    12     5000        60000.0\n",
      "CHS2020    착한식당    50     3000       150000.0\n",
      "PZ2020       피자    47     3000       141000.0\n",
      "WA2020   어서와라와라     2    데이터없음            NaN\n",
      "HJ2020       현지   900      100        90000.0\n"
     ]
    }
   ],
   "source": [
    "import pandas as pd\n",
    "import numpy as np\n",
    "\n",
    "##NULL값처리##\n",
    "\n",
    "ID_ser=pd.Series([\"교촌치킨\",\"착한식당\",\"피자\",\"와라와라\"],index=[\"GC2020\",\"CHS2020\",\"PZ2020\",\"WA2020\"])\n",
    "Freq_ser=pd.Series([12,50,47,2],index=[\"GC2020\",\"CHS2020\",\"PZ2020\",\"WA2020\"])\n",
    "Fee_ser=pd.Series([5000,3000,3000,np.nan],index=[\"GC2020\",\"CHS2020\",\"PZ2020\",\"WA2020\"])\n",
    "\n",
    "result=pd.DataFrame({\n",
    "    \"ID\"  : ID_ser,\n",
    "    \"Freq\" : Freq_ser,\n",
    "    \"unit Fee\": Fee_ser\n",
    "})\n",
    "\n",
    "result[\"total_amt_ser\"]= result[\"Freq\"]*result[\"unit Fee\"]\n",
    "print(result)\n",
    "# --*--연습-슬라이싱#\n",
    "print(result.loc[\"GC2020\":\"CHS2020\",:\"ID\"])\n",
    "# --*--연습-데이터삽입#\n",
    "result.loc[\"HJ2020\"]=[\"현지\",900,100,90000]\n",
    "print(result)\n",
    "# --*--연습-데이터변경#\n",
    "result.loc[\"WA2020\",\"ID\"]=\"어서와라와라\"\n",
    "print(result)\n",
    "\n",
    "#Null값처리#\n",
    "print(result.isnull())\n",
    "print(result.notnull())\n",
    "result[\"unit Fee\"]=result[\"unit Fee\"].fillna(\"데이터없음\")\n",
    "print(result)"
   ]
  }
 ],
 "metadata": {
  "kernelspec": {
   "display_name": "Python 3",
   "language": "python",
   "name": "python3"
  },
  "language_info": {
   "codemirror_mode": {
    "name": "ipython",
    "version": 3
   },
   "file_extension": ".py",
   "mimetype": "text/x-python",
   "name": "python",
   "nbconvert_exporter": "python",
   "pygments_lexer": "ipython3",
   "version": "3.7.4"
  }
 },
 "nbformat": 4,
 "nbformat_minor": 2
}
