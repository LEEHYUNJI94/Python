{
  "nbformat": 4,
  "nbformat_minor": 0,
  "metadata": {
    "colab": {
      "name": "Untitled0.ipynb",
      "provenance": [],
      "collapsed_sections": [],
      "toc_visible": true,
      "authorship_tag": "ABX9TyNj4GuJtavi3AfzR1E0DkBz",
      "include_colab_link": true
    },
    "kernelspec": {
      "name": "python3",
      "display_name": "Python 3"
    },
    "accelerator": "GPU"
  },
  "cells": [
    {
      "cell_type": "markdown",
      "metadata": {
        "id": "view-in-github",
        "colab_type": "text"
      },
      "source": [
        "<a href=\"https://colab.research.google.com/github/LEEHYUNJI94/Python/blob/master/Pandas.ipynb\" target=\"_parent\"><img src=\"https://colab.research.google.com/assets/colab-badge.svg\" alt=\"Open In Colab\"/></a>"
      ]
    },
    {
      "cell_type": "markdown",
      "metadata": {
        "id": "c7wHRB1Vi_s7",
        "colab_type": "text"
      },
      "source": [
        "### 딕셔너리형 & 시리즈형 & 프레임만들기\n",
        "  +슬라이싱"
      ]
    },
    {
      "cell_type": "code",
      "metadata": {
        "id": "K33xeCzejL_6",
        "colab_type": "code",
        "colab": {}
      },
      "source": [
        "import pandas as pd\n",
        "\n",
        "######데이터세팅-DataFrame######\n",
        "name_ser = pd.Series([\"이현지\",\"이둥\",\"julia\",\"아가\"],index = [\"a\",\"b\",\"c\",\"d\"])\n",
        "salary_ser=pd.Series([90000,2000,40000,105],index = [\"a\",\"b\",\"c\",\"d\"] )\n",
        "month_ser=pd.Series([3,6,20,10],index = [\"a\",\"b\",\"c\",\"d\"])\n",
        "\n",
        "result= pd.DataFrame({\n",
        "    \"name\" :name_ser,\n",
        "    \"salary\":salary_ser,\n",
        "    \"month\":month_ser\n",
        "})\n",
        "result[\"total_salary\"] = result[\"salary\"] * result[\"month\"]\n",
        "print(result)\n",
        "######데이터세팅-DataFrame######\n",
        "\n",
        "\n",
        "#####슬라이싱#####\n",
        "###DataFrame안에 loc함수이용\n",
        "##컬럼 슬라이싱\n",
        "#index b~c까지 total_salary컬럼\n",
        "print(result.loc[\"b\":\"c\",\"total_salary\":])\n",
        "\n",
        "##인덱스기준으로 슬라이싱\n",
        "#행(인덱스)1:2->1행, 열3:0->3열\n",
        "print(result.iloc[1:2,3:])\n",
        "\n",
        "##데이터 변경\n",
        "#[]안에 좌표\n",
        "result.loc[\"d\",\"salary\"] = 500\n",
        "\n",
        "##데이터 행삽입\n",
        "#[]행설정 후 값 []안에 배열로 담기\n",
        "result.loc[\"e\"]=[\"구기수\",200,1,200]\n",
        "print(result)"
      ],
      "execution_count": 0,
      "outputs": []
    },
    {
      "cell_type": "markdown",
      "metadata": {
        "id": "VcMQQc2kjTCz",
        "colab_type": "text"
      },
      "source": [
        "### 엑셀형식으로 저장"
      ]
    },
    {
      "cell_type": "code",
      "metadata": {
        "id": "T8Qhe5ZBjcm1",
        "colab_type": "code",
        "colab": {
          "base_uri": "https://localhost:8080/",
          "height": 193
        },
        "outputId": "2d501708-10dc-41b1-b736-dbee25c8a660"
      },
      "source": [
        "import pandas as pd\n",
        "######데이터세팅-DataFrame######\n",
        "name_ser = pd.Series([\"이현지\",\"Hyun\",\"julia\",\"Lee\"],index = [\"a\",\"b\",\"c\",\"d\"])\n",
        "salary_ser=pd.Series([90000,2000,40000,105],index = [\"a\",\"b\",\"c\",\"d\"] )\n",
        "month_ser=pd.Series([3,6,20,10],index = [\"a\",\"b\",\"c\",\"d\"])\n",
        "\n",
        "result = pd.DataFrame({\n",
        "    \"name\":name_ser,\n",
        "    \"salary\":salary_ser,\n",
        "    \"month\":month_ser\n",
        "})\n",
        "print(result)\n",
        "######데이터세팅-DataFrame######\n",
        "\n",
        "\n",
        "#####엑셀형식으로 저장하기#####\n",
        "#.to_csv encoding --데이터를 내보낼때 \n",
        "result.to_csv(\"saved.csv\", encoding=\"utf-8-sig\")\n",
        "\n",
        "# read_csv index_col --데이터를 불러 올때\n",
        "result_saved=pd.read_csv(\"saved.csv\", index_col=0)\n",
        "print(result_saved)"
      ],
      "execution_count": 1,
      "outputs": [
        {
          "output_type": "stream",
          "text": [
            "    name  salary  month\n",
            "a    이현지   90000      3\n",
            "b   Hyun    2000      6\n",
            "c  julia   40000     20\n",
            "d    Lee     105     10\n",
            "    name  salary  month\n",
            "a    이현지   90000      3\n",
            "b   Hyun    2000      6\n",
            "c  julia   40000     20\n",
            "d    Lee     105     10\n"
          ],
          "name": "stdout"
        }
      ]
    }
  ]
}