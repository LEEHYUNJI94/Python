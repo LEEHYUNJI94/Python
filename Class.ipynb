{
  "nbformat": 4,
  "nbformat_minor": 0,
  "metadata": {
    "colab": {
      "name": "Untitled0.ipynb",
      "provenance": [],
      "include_colab_link": true
    },
    "kernelspec": {
      "name": "python3",
      "display_name": "Python 3"
    }
  },
  "cells": [
    {
      "cell_type": "markdown",
      "metadata": {
        "id": "view-in-github",
        "colab_type": "text"
      },
      "source": [
        "<a href=\"https://colab.research.google.com/github/LEEHYUNJI94/Python/blob/master/Class.ipynb\" target=\"_parent\"><img src=\"https://colab.research.google.com/assets/colab-badge.svg\" alt=\"Open In Colab\"/></a>"
      ]
    },
    {
      "cell_type": "markdown",
      "metadata": {
        "id": "_aH3b3HLngQ7",
        "colab_type": "text"
      },
      "source": [
        "### ▶Class \n",
        "\n",
        "#### 1.Class Basic\n",
        "*   인스턴스 : 클래스로 정의된 객체를 프로그램 상에서 이용할 수 있게 만든 수\n",
        "*   클래스 맴버 : 클래스 내부에 포함되는 변수\n",
        "*   클래스 함수 : 클래스 내부에 포함되는 함수=메소드\n"
      ]
    },
    {
      "cell_type": "code",
      "metadata": {
        "id": "mwQNFUB7nfuM",
        "colab_type": "code",
        "outputId": "77428aef-1d19-42c7-b518-a32bc9ebfff1",
        "colab": {
          "base_uri": "https://localhost:8080/",
          "height": 90
        }
      },
      "source": [
        "class car:\n",
        "#class 생성자\n",
        "  name=\"제규어\"\n",
        "  color=\"red\"\n",
        "  def __init__(self,name,color): \n",
        "   self.name = name         #class member\n",
        "   self.color = color       #class member\n",
        "#class 소멸자\n",
        "  def __del__(self):\n",
        "    print(\"인스턴스를 소멸시킵니다.\")\n",
        "#class method\n",
        "  def show_info(self):     \n",
        "    print(\"이름 : \",self.name, \"/색상 :\",self.color)  #이름과 색상출력\n",
        "#setter method    \n",
        "  def set_name(self,new_name):                            #name에서 new_name으로 이름변경\n",
        "    self.name=new_name\n",
        "\n",
        "#instance=car1만들기\n",
        "car1=car(\"discovery\",\"gray\")    #메모리상 동적으로 할당->한 번사용되고 사용되지 않는 객체는 삭제\n",
        "print(dir(car))                 #메소드 확인\n",
        "car1.show_info()\n",
        "car1.set_name(\"아반떼\")\n",
        "print(car1.name,\"을 구매했습니다!\")\n",
        "# del car1                        #메모리상 할당해제\n",
        "# car1.show_info()                #할당해제로 오류발생  Error message :name 'car1' is not defined\n"
      ],
      "execution_count": 0,
      "outputs": [
        {
          "output_type": "stream",
          "text": [
            "['__class__', '__del__', '__delattr__', '__dict__', '__dir__', '__doc__', '__eq__', '__format__', '__ge__', '__getattribute__', '__gt__', '__hash__', '__init__', '__init_subclass__', '__le__', '__lt__', '__module__', '__ne__', '__new__', '__reduce__', '__reduce_ex__', '__repr__', '__setattr__', '__sizeof__', '__str__', '__subclasshook__', '__weakref__', 'color', 'name', 'set_name', 'show_info']\n",
            "이름 :  discovery /색상 : gray\n",
            "아반떼 을 구매했습니다!\n"
          ],
          "name": "stdout"
        }
      ]
    },
    {
      "cell_type": "code",
      "metadata": {
        "id": "H4fCwntxgGht",
        "colab_type": "code",
        "colab": {}
      },
      "source": [
        ""
      ],
      "execution_count": 0,
      "outputs": []
    },
    {
      "cell_type": "markdown",
      "metadata": {
        "id": "flsrCTQKmskF",
        "colab_type": "text"
      },
      "source": [
        "\n",
        "*   클래스 속성확인"
      ]
    },
    {
      "cell_type": "code",
      "metadata": {
        "id": "mwhM36xNerdq",
        "colab_type": "code",
        "outputId": "e56d28f9-d559-48e0-dbea-bd476f050d68",
        "colab": {
          "base_uri": "https://localhost:8080/",
          "height": 126
        }
      },
      "source": [
        "print(car1.__dict__)          #{'color': 'gray', 'name': 'discovery'}->{'name': '아반떼', 'color': 'gray'}\n",
        "print(car1.name)\n",
        "print(car.__dict__)           #Class 속성확인(mappingproxy)\n",
        "print(car.name)\n",
        "car.__mro__                   #우선순위 확인(다중상속일 때 우선순위를 찾을 수 있음)"
      ],
      "execution_count": 0,
      "outputs": [
        {
          "output_type": "stream",
          "text": [
            "{'name': '아반떼', 'color': 'gray'}\n",
            "아반떼\n",
            "{'__module__': '__main__', 'name': '제규어', 'color': 'red', '__init__': <function car.__init__ at 0x7f0718d15730>, '__del__': <function car.__del__ at 0x7f0718d158c8>, 'show_info': <function car.show_info at 0x7f0718d15950>, 'set_name': <function car.set_name at 0x7f0718d159d8>, '__dict__': <attribute '__dict__' of 'car' objects>, '__weakref__': <attribute '__weakref__' of 'car' objects>, '__doc__': None}\n",
            "제규어\n"
          ],
          "name": "stdout"
        },
        {
          "output_type": "execute_result",
          "data": {
            "text/plain": [
              "(__main__.car, object)"
            ]
          },
          "metadata": {
            "tags": []
          },
          "execution_count": 3
        }
      ]
    },
    {
      "cell_type": "markdown",
      "metadata": {
        "id": "eXJpLsvbvWum",
        "colab_type": "text"
      },
      "source": [
        "#### 2. Class 상속\n",
        "*   자식 class : 부모 클래스를 상속받은 클래스\n",
        "\n"
      ]
    },
    {
      "cell_type": "code",
      "metadata": {
        "id": "_Ntp8eE_vYsI",
        "colab_type": "code",
        "outputId": "aed09b41-e9d6-40d6-b0ea-5e5d5fa96df1",
        "colab": {
          "base_uri": "https://localhost:8080/",
          "height": 70
        }
      },
      "source": [
        "class unit:\n",
        "  def __init__(self,name,power):\n",
        "    self.name=name \n",
        "    self.power=power\n",
        "  def attack(self):\n",
        "    print(self.name,\"이(가)공격 수행, [power]:\",self.power)\n",
        "\n",
        "unit1=unit(\"Julia\",357)\n",
        "unit1.attack()\n",
        "\n",
        "class monster(unit):                    #(부모클래스)\n",
        "  def __init__(self,name,power,type):   #type을 class member로 만들어 줌\n",
        "    self.name=name\n",
        "    self.power=power\n",
        "    self.type=type\n",
        "  def show_info(self):\n",
        "    print(\"이름:\",self.name,\"/ 종류 :\",self.type)\n",
        "monster1=monster(\"gu\",45,\"초급\")\n",
        "monster1.attack()\n",
        "monster1.show_info() "
      ],
      "execution_count": 0,
      "outputs": [
        {
          "output_type": "stream",
          "text": [
            "Julia 이(가)공격 수행, [power]: 357\n",
            "gu 이(가)공격 수행, [power]: 45\n",
            "이름: gu / 종류 : 초급\n"
          ],
          "name": "stdout"
        }
      ]
    },
    {
      "cell_type": "markdown",
      "metadata": {
        "id": "26V3WTqT4B3J",
        "colab_type": "text"
      },
      "source": [
        "#### 3. Class public & private\n"
      ]
    },
    {
      "cell_type": "code",
      "metadata": {
        "id": "Xy-ErWkhig2i",
        "colab_type": "code",
        "outputId": "953136b9-aee0-44a5-bc41-db3ed7e7f8af",
        "colab": {
          "base_uri": "https://localhost:8080/",
          "height": 365
        }
      },
      "source": [
        "class Quad:\n",
        "  def __init__(self,width,height,color):\n",
        "    self._width = width\n",
        "    self._height = height\n",
        "    self._color =  color\n",
        "\n",
        "  def get_area(self):\n",
        "    return self._width * self._height\n",
        "\n",
        "  def _set_area(self,new_width,new_height):\n",
        "    self._width =new_width\n",
        "    self._height = new_height\n",
        "\n",
        "\n",
        "square = Quad(5, 5, \"black\")\n",
        "print(square.get_area())\n",
        "print(square._width)\n",
        "square._width = 10\n",
        "print(square.get_area())\n",
        "square._set_area(3, 3)\n",
        "print(square.get_area())\n",
        "\n",
        "print(\"\\n\")\n",
        "\n",
        "#####private로 선언했을 때#####\n",
        "#_:proteced __:private\n",
        "class Quadrangle:\n",
        "    def __init__(self, width, height, color):\n",
        "        self._width = width\n",
        "        self.__height = height\n",
        "        self.__color = color\n",
        " \n",
        "    def get_area(self):\n",
        "        return self._width * self.__height\n",
        "    \n",
        "    def __set_area(self, width, height):\n",
        "        self._width = width \n",
        "        self.__height = height\n",
        "\n",
        "#_은 protected이기 때문에 접근 가능\n",
        "square = Quadrangle(5, 5, \"black\")\n",
        "print(square._width)\n",
        "\n",
        "#__는 private이기 때문에 접근 불가능 >>Error : has no attribute\n",
        "print(square.__set_area(10, 10))\n",
        "print(square.get_area())\n",
        "print(square.__width)\n",
        "square.__width = 10\n",
        "square.__set_area(3, 3) "
      ],
      "execution_count": 0,
      "outputs": [
        {
          "output_type": "stream",
          "text": [
            "25\n",
            "5\n",
            "50\n",
            "9\n",
            "\n",
            "\n",
            "5\n"
          ],
          "name": "stdout"
        },
        {
          "output_type": "error",
          "ename": "AttributeError",
          "evalue": "ignored",
          "traceback": [
            "\u001b[0;31m---------------------------------------------------------------------------\u001b[0m",
            "\u001b[0;31mAttributeError\u001b[0m                            Traceback (most recent call last)",
            "\u001b[0;32m<ipython-input-59-397deacf95a6>\u001b[0m in \u001b[0;36m<module>\u001b[0;34m()\u001b[0m\n\u001b[1;32m     43\u001b[0m \u001b[0;34m\u001b[0m\u001b[0m\n\u001b[1;32m     44\u001b[0m \u001b[0;31m#__는 private이기 때문에 접근 불가능 >>Error : has no attribute\u001b[0m\u001b[0;34m\u001b[0m\u001b[0;34m\u001b[0m\u001b[0;34m\u001b[0m\u001b[0m\n\u001b[0;32m---> 45\u001b[0;31m \u001b[0mprint\u001b[0m\u001b[0;34m(\u001b[0m\u001b[0msquare\u001b[0m\u001b[0;34m.\u001b[0m\u001b[0m__set_area\u001b[0m\u001b[0;34m(\u001b[0m\u001b[0;36m10\u001b[0m\u001b[0;34m,\u001b[0m \u001b[0;36m10\u001b[0m\u001b[0;34m)\u001b[0m\u001b[0;34m)\u001b[0m\u001b[0;34m\u001b[0m\u001b[0;34m\u001b[0m\u001b[0m\n\u001b[0m\u001b[1;32m     46\u001b[0m \u001b[0mprint\u001b[0m\u001b[0;34m(\u001b[0m\u001b[0msquare\u001b[0m\u001b[0;34m.\u001b[0m\u001b[0mget_area\u001b[0m\u001b[0;34m(\u001b[0m\u001b[0;34m)\u001b[0m\u001b[0;34m)\u001b[0m\u001b[0;34m\u001b[0m\u001b[0;34m\u001b[0m\u001b[0m\n\u001b[1;32m     47\u001b[0m \u001b[0mprint\u001b[0m\u001b[0;34m(\u001b[0m\u001b[0msquare\u001b[0m\u001b[0;34m.\u001b[0m\u001b[0m__width\u001b[0m\u001b[0;34m)\u001b[0m\u001b[0;34m\u001b[0m\u001b[0;34m\u001b[0m\u001b[0m\n",
            "\u001b[0;31mAttributeError\u001b[0m: 'Quadrangle' object has no attribute '__set_area'"
          ]
        }
      ]
    },
    {
      "cell_type": "markdown",
      "metadata": {
        "id": "tYQZrKwNLCsk",
        "colab_type": "text"
      },
      "source": [
        "### 4. get,set-1 \n",
        "*   get set 만들기 전 값 접근 1\n",
        "\n",
        "\n"
      ]
    },
    {
      "cell_type": "code",
      "metadata": {
        "id": "2Z6N81OV7O5Z",
        "colab_type": "code",
        "outputId": "cd1bc76b-c220-41f6-a8b1-2743ff08dbea",
        "colab": {
          "base_uri": "https://localhost:8080/",
          "height": 106
        }
      },
      "source": [
        "class Konto:\n",
        "  def __init__(self,Ausgleich,Bank_Konto):\n",
        "    # self.__Ausgleich=Ausgleich         #1 __private로 만들어 값을 변경할 수 없게함\n",
        "    self.Ausgleich=Ausgleich\n",
        "    self.Bank_Konto=Bank_Konto\n",
        "\n",
        "konto1=Konto(70,789)\n",
        "print(konto1.Ausgleich)\n",
        "print(konto1.Bank_Konto)\n",
        "# konto1.Ausgleich=2                     #1 Ausgleich를 2로 변경할 수 없음\n",
        "print(\"\\t\")\n",
        "konto1=Konto(40,456)\n",
        "print(konto1.Ausgleich)\n",
        "print(konto1.Bank_Konto)\n"
      ],
      "execution_count": 0,
      "outputs": [
        {
          "output_type": "stream",
          "text": [
            "70\n",
            "789\n",
            "\t\n",
            "40\n",
            "456\n"
          ],
          "name": "stdout"
        }
      ]
    },
    {
      "cell_type": "markdown",
      "metadata": {
        "id": "XXqEnxGlZiJE",
        "colab_type": "text"
      },
      "source": [
        "### 5. @property, @.setter만들기 1\n",
        "\n"
      ]
    },
    {
      "cell_type": "code",
      "metadata": {
        "id": "Ciu7hfDQL8n-",
        "colab_type": "code",
        "outputId": "132dd27a-7efe-48ff-8512-d44f7f7bc400",
        "colab": {
          "base_uri": "https://localhost:8080/",
          "height": 88
        }
      },
      "source": [
        "class Account:\n",
        "  def __init__(self,balance,bank_account):\n",
        "    self.__balance=balance\n",
        "    self.__bank_account=bank_account\n",
        "\n",
        "# 각 속성에 대해 get set의 property를 만들어줌\n",
        "  @property\n",
        "  def balance(self):\n",
        "    return self.__balance\n",
        "  @balance.setter                           #setter는 2개의 속성을 가짐\n",
        "  def balance(self,balance):\n",
        "    self.__balance=balance                  #새로 set해주는 인자(balance)를 self.__balance에 담아서 출력\n",
        "  @property\n",
        "  def bank_account(self):\n",
        "    return self.__bank_account\n",
        "  @bank_account.setter\n",
        "  def bank_account(self,bank_account):\n",
        "    self.__bank_account=bank_account\n",
        "\n",
        "account1=Account(100,123)\n",
        "print(account1.balance)\n",
        "print(account1.bank_account)\n",
        "account1.balance=2000                       #set을 하지 않고 @property를 이용해 instance.attribute=value형식으로 바로 attribute의 value에 접근가능(private지만)\n",
        "print(account1.balance)                     #set attribute가 없다는 error가 뜨는 것은 setter가 없기 때문, @property만 있어서\n",
        "print(account1.bank_account)"
      ],
      "execution_count": 0,
      "outputs": [
        {
          "output_type": "stream",
          "text": [
            "100\n",
            "123\n",
            "2000\n",
            "123\n"
          ],
          "name": "stdout"
        }
      ]
    },
    {
      "cell_type": "markdown",
      "metadata": {
        "id": "v2kyMSnhQP_T",
        "colab_type": "text"
      },
      "source": [
        "### 4. get,set-2\n",
        "*   GET,SET만들기 2\n",
        "\n"
      ]
    },
    {
      "cell_type": "code",
      "metadata": {
        "id": "z4hqRZptAol0",
        "colab_type": "code",
        "outputId": "67a24e2b-f213-408a-9520-c95894574691",
        "colab": {
          "base_uri": "https://localhost:8080/",
          "height": 106
        }
      },
      "source": [
        "class Konto:\n",
        "  def __init__(self,Ausgleich,Bank_Konto):\n",
        "    self.__Ausgleich=Ausgleich\n",
        "    self.__Bank_Konto=Bank_Konto\n",
        "\n",
        "#Ausgleich get#\n",
        "  def getter_Ausgleich(self):\n",
        "    return self.__Ausgleich * 10\n",
        "#Bank_Konto get#\n",
        "  def getter_Bank_Konto(self):\n",
        "    return self.__Bank_Konto\n",
        "#Ausgleich set#\n",
        "  def setter(self,Ausgleich,Bank_Konto):\n",
        "    if isinstance(Ausgleich,int):\n",
        "     #return -get으로 값을 보내야하기 때문에 return하면 안됨\n",
        "     #print(Ausgleich * 100)\n",
        "     self.__Ausgleich=Ausgleich *1000\n",
        "     self.__Bank_Konto=Bank_Konto,':Neue Bank Konto'\n",
        "    #  print(Bank_Konto,':Neue Bank Konto')\n",
        "    else:\n",
        "      raise Exception (\"Bitte geben Sie die Nummer ein\")\n",
        "\n",
        "a=Konto(70,789)                       #클래스에 인스턴스 생성\n",
        "print(a.getter_Ausgleich())           #클래스 getter_Ausgleich 메소드 사용    / ()= getter_Ausgleich(self)이기 때문(self밖에 없기때문)\n",
        "print(a.getter_Bank_Konto())          #클래스 getter_Bank_Konto 메소드 사용\n",
        "print(\"\\t\")\n",
        "a.setter(40,'456-779')                #클래스 setter 메소드 사용해 변수 값 변경 >4000\n",
        "print(a.getter_Ausgleich())           #클래스 getter_Ausgleich 메소드 사용      >>4000*10=40000\n",
        "print(a.getter_Bank_Konto())          #클래스 getter_Bank_Konto 메소드 사용"
      ],
      "execution_count": 0,
      "outputs": [
        {
          "output_type": "stream",
          "text": [
            "700\n",
            "789\n",
            "\t\n",
            "400000\n",
            "('456-779', ':Neue Bank Konto')\n"
          ],
          "name": "stdout"
        }
      ]
    },
    {
      "cell_type": "markdown",
      "metadata": {
        "id": "5E4XLABuL8CS",
        "colab_type": "text"
      },
      "source": [
        "### 5. @property, @.setter만들기 2\n",
        "\n",
        "*   @property,@.setter 사용 2\n",
        "\n",
        "\n",
        "\n",
        "\n",
        "\n"
      ]
    },
    {
      "cell_type": "code",
      "metadata": {
        "id": "VXiqDj_50Ycb",
        "colab_type": "code",
        "outputId": "b63e20a1-a4f0-469e-cb05-c9678f5f97bf",
        "colab": {
          "base_uri": "https://localhost:8080/",
          "height": 124
        }
      },
      "source": [
        "class Konto:\n",
        "  def __init__(self,Ausgleich,Bank_Konto):\n",
        "    self.__Ausgleich=Ausgleich\n",
        "    self.__Bank_Konto=Bank_Konto\n",
        "\n",
        "#Ausgleich get#\n",
        "  @property\n",
        "  def Ausgleich(self):\n",
        "    return self.__Ausgleich * 10\n",
        "#Ausgleich set#\n",
        "  @Ausgleich.setter\n",
        "  def Ausgleich(self,Ausgleich):\n",
        "    if isinstance(Ausgleich,int):\n",
        "     #return -get으로 값을 보내야하기 때문에 return하면 안됨\n",
        "     #print(Ausgleich * 100)\n",
        "     self.__Ausgleich=Ausgleich * 1000\n",
        "     #print(Bank_Konto,':Neue Bank Konto')\n",
        "    else:\n",
        "      raise Exception (\"Bitte geben Sie die Nummer ein\")\n",
        "#Bank_Konto get#\n",
        "  @property\n",
        "  def Bank_Konto(self):\n",
        "    return self.__Bank_Konto\n",
        "#AusBank_Konto set#\n",
        "  @Bank_Konto.setter\n",
        "  def Bank_Konto(self,Bank_Konto):\n",
        "    if isinstance(Bank_Konto,int):\n",
        "     #return -get으로 값을 보내야하기 때문에 return하면 안됨\n",
        "     #print(Ausgleich * 100)\n",
        "     self.__Bank_Konto=Bank_Konto,':Neue Bank Konto'\n",
        "    #  print(Bank_Konto,':Neue Bank Konto')\n",
        "    else:\n",
        "      raise Exception (\"Bitte geben Sie die Nummer ein\")\n",
        "\n",
        "\n",
        "konto_pro=Konto(50,567)\n",
        "print(konto_pro)\n",
        "print(konto_pro.Ausgleich)\n",
        "print(konto_pro.Bank_Konto)\n",
        "print(\"\\t\")\n",
        "konto_pro.Ausgleich=70                           #get set을 쓰지 않고 인스턴스.속성=값으로 값을 새로 부여가능\n",
        "konto_pro.Bank_Konto=7050                        #Bank_Konto의 set로직을 탔기 때문에 Neue Bank Konto가 출력됨\n",
        "print(konto_pro.Ausgleich)\n",
        "print(konto_pro.Bank_Konto)\n"
      ],
      "execution_count": 0,
      "outputs": [
        {
          "output_type": "stream",
          "text": [
            "<__main__.Konto object at 0x7f5bc4b70470>\n",
            "500\n",
            "567\n",
            "\t\n",
            "700000\n",
            "(7050, ':Neue Bank Konto')\n"
          ],
          "name": "stdout"
        }
      ]
    },
    {
      "cell_type": "markdown",
      "metadata": {
        "id": "zJfkd0NSuA1Q",
        "colab_type": "text"
      },
      "source": [
        "### 6.동적클래스 만들기 , 메타클래스\n",
        "\n",
        "*   클래스=객체될 수 있기 때문에 새로운 클래스를 만들 수 있음\n"
      ]
    },
    {
      "cell_type": "code",
      "metadata": {
        "id": "zW6lH9Tcsigz",
        "colab_type": "code",
        "outputId": "dd7a1b3a-b6b5-40b7-882a-47eea53bf0d1",
        "colab": {
          "base_uri": "https://localhost:8080/",
          "height": 176
        }
      },
      "source": [
        "def a (name):\n",
        "  if name =='julia':\n",
        "    class Julia(object):\n",
        "      pass\n",
        "    return Julia              #클래스반환 (인스턴스 x)\n",
        "  else:\n",
        "        class Bar(object):\n",
        "          pass\n",
        "        return Bar\n",
        "mein = a('julia')            \n",
        "print(mein)                   #인스턴스X, 클래스를 반환\n",
        "print(mein())                 #이 클래스로 새로운 객체를 만들 수 있음\n",
        "print(\"\\n\")\n",
        "\n",
        "\n",
        "class test27 (object):\n",
        "  bar = True\n",
        "\n",
        "##### 해당↑ class를 아래와 같이 type으로 표현 할 수 있음####\n",
        "test27=type(\"test27\",(),{\"bar\":True})\n",
        "print(test27)\n",
        "\n",
        "test27_child=type(\"test27_child\",(test27,),{})\n",
        "print(test27_child.bar)       #bar는 test27의 인스턴스\n",
        "print(\"\\t\")\n",
        "\n",
        "#### class에 새로운 매소드 추가 #####\n",
        "def abd(self):\n",
        "  print(self.bar)\n",
        "\n",
        "test27_child=type(\"test27_child\",(test27,),{'ab':abc})\n",
        "print(hasattr(test27,'ab'))     #부모클래스는 자식클래스의 매소드를 상속받지 못하기때문\n",
        "print(hasattr(test27_child,'ab'))"
      ],
      "execution_count": 38,
      "outputs": [
        {
          "output_type": "stream",
          "text": [
            "<class '__main__.a.<locals>.Julia'>\n",
            "<__main__.a.<locals>.Julia object at 0x7f073e0f0e80>\n",
            "\n",
            "\n",
            "<class '__main__.test27'>\n",
            "True\n",
            "\t\n",
            "False\n",
            "True\n"
          ],
          "name": "stdout"
        }
      ]
    },
    {
      "cell_type": "markdown",
      "metadata": {
        "id": "81rwKxFZDuAQ",
        "colab_type": "text"
      },
      "source": [
        "### 7. 추상클래스 & 오버라이딩\n",
        "\n",
        "*   자식클래스에서 해당 추상 메소드를 반드시 구현하도록 강제\n",
        "*   상속받은 클래스는 추상메소드를 구현하지 않아도, import할 때까지 에러발생 X 객체생성 시 에러발생\n",
        "\n"
      ]
    },
    {
      "cell_type": "code",
      "metadata": {
        "id": "sIV1wGRxu4lw",
        "colab_type": "code",
        "colab": {
          "base_uri": "https://localhost:8080/",
          "height": 52
        },
        "outputId": "af1452b2-ba53-4923-b116-84923924eefe"
      },
      "source": [
        "from abc import *\n",
        "\n",
        "class animal(metaclass=ABCMeta):        #추상클래스 선언\n",
        "  def __init__(self,size,age):\n",
        "    self.size=size\n",
        "    self.age=age\n",
        "  def eat(self):\n",
        "    print(\"ate!\")\n",
        "  @abstractclassmethod                #추상메소드 선언(overriding하도록)\n",
        "  def hunt(self):\n",
        "    pass                              #추상 메서드 호출 X 빈 메서드로 만듦\n",
        "\n",
        "class rabbit(animal):\n",
        "  def __init__(self,size,age,power):\n",
        "    super().__init__(size,age)        #부모 메소드 오버라이딩-> super().메소드()\n",
        "    self.power=power\n",
        "  def hunt(self,ani):\n",
        "    if (ani==\"tiger\"):\n",
        "      print(\"run!\")\n",
        "    else:\n",
        "      print(\"fight!\")\n",
        "\n",
        "result=rabbit(4,5,80)\n",
        "print(result)\n",
        "result.hunt(\"tiger\")\n"
      ],
      "execution_count": 72,
      "outputs": [
        {
          "output_type": "stream",
          "text": [
            "<__main__.rabbit object at 0x7f073e118240>\n",
            "run!\n"
          ],
          "name": "stdout"
        }
      ]
    }
  ]
}