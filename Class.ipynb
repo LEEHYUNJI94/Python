{
  "nbformat": 4,
  "nbformat_minor": 0,
  "metadata": {
    "colab": {
      "name": "Untitled0.ipynb",
      "provenance": [],
      "include_colab_link": true
    },
    "kernelspec": {
      "name": "python3",
      "display_name": "Python 3"
    }
  },
  "cells": [
    {
      "cell_type": "markdown",
      "metadata": {
        "id": "view-in-github",
        "colab_type": "text"
      },
      "source": [
        "<a href=\"https://colab.research.google.com/github/LEEHYUNJI94/Python/blob/master/Class.ipynb\" target=\"_parent\"><img src=\"https://colab.research.google.com/assets/colab-badge.svg\" alt=\"Open In Colab\"/></a>"
      ]
    },
    {
      "cell_type": "markdown",
      "metadata": {
        "id": "_aH3b3HLngQ7",
        "colab_type": "text"
      },
      "source": [
        "### ▶Class \n",
        "\n",
        "#### 1.Class Basic\n",
        "*   인스턴스 : 클래스로 정의된 객체를 프로그램 상에서 이용할 수 있게 만든 수\n",
        "*   클래스 맴버 : 클래스 내부에 포함되는 변수\n",
        "*   클래스 함수 : 클래스 내부에 포함되는 함수=메소드\n"
      ]
    },
    {
      "cell_type": "code",
      "metadata": {
        "id": "mwQNFUB7nfuM",
        "colab_type": "code",
        "outputId": "6ffa6ddd-a223-4158-e222-e34a44b9e296",
        "colab": {
          "base_uri": "https://localhost:8080/",
          "height": 108
        }
      },
      "source": [
        "class car:\n",
        "#class 생성자\n",
        "  def __init__(self,name,color): \n",
        "   self.name = name         #class member\n",
        "   self.color = color       #class member\n",
        "#class 소멸자\n",
        "  def __del__(self):\n",
        "    print(\"인스턴스를 소멸시킵니다.\")\n",
        "#class method\n",
        "  def show_info(self):     \n",
        "    print(\"이름 : \",self.name, \"/색상 :\",self.color)  #이름과 색상출력\n",
        "#setter method    \n",
        "  def set_name(self,new_name):                            #name에서 new_name으로 이름변경\n",
        "    self.name=new_name\n",
        "\n",
        "#instance=car1만들기\n",
        "car1=car(\"소나타\",\"빨간색\")   #메모리상 동적으로 할당->한 번사용되고 사용되지 않는 객체는 삭제\n",
        "car1.show_info()\n",
        "car1.set_name(\"아반떼\")\n",
        "print(car1.name,\"을 구매했습니다!\")\n",
        "del car1                        #메모리상 할당해제\n",
        "# car1.show_info()              #할당해제로 오류발생\n",
        "print(dir(car))                 #객체정보확인하기\n"
      ],
      "execution_count": 2,
      "outputs": [
        {
          "output_type": "stream",
          "text": [
            "이름 :  소나타 /색상 : 빨간색\n",
            "아반떼 을 구매했습니다!\n",
            "인스턴스를 소멸시킵니다.\n",
            "['__class__', '__del__', '__delattr__', '__dict__', '__dir__', '__doc__', '__eq__', '__format__', '__ge__', '__getattribute__', '__gt__', '__hash__', '__init__', '__init_subclass__', '__le__', '__lt__', '__module__', '__ne__', '__new__', '__reduce__', '__reduce_ex__', '__repr__', '__setattr__', '__sizeof__', '__str__', '__subclasshook__', '__weakref__', 'set_name', 'show_info']\n"
          ],
          "name": "stdout"
        }
      ]
    },
    {
      "cell_type": "markdown",
      "metadata": {
        "id": "eXJpLsvbvWum",
        "colab_type": "text"
      },
      "source": [
        "#### 2. Class 상속\n",
        "*   자식 class : 부모 클래스를 상속받은 클래스\n",
        "\n"
      ]
    },
    {
      "cell_type": "code",
      "metadata": {
        "id": "_Ntp8eE_vYsI",
        "colab_type": "code",
        "outputId": "aed09b41-e9d6-40d6-b0ea-5e5d5fa96df1",
        "colab": {
          "base_uri": "https://localhost:8080/",
          "height": 70
        }
      },
      "source": [
        "class unit:\n",
        "  def __init__(self,name,power):\n",
        "    self.name=name\n",
        "    self.power=power\n",
        "  def attack(self):\n",
        "    print(self.name,\"이(가)공격 수행, [power]:\",self.power)\n",
        "\n",
        "unit1=unit(\"Julia\",357)\n",
        "unit1.attack()\n",
        "\n",
        "class monster(unit):                    #(부모클래스)\n",
        "  def __init__(self,name,power,type):   #type을 class member로 만들어 줌\n",
        "    self.name=name\n",
        "    self.power=power\n",
        "    self.type=type\n",
        "  def show_info(self):\n",
        "    print(\"이름:\",self.name,\"/ 종류 :\",self.type)\n",
        "monster1=monster(\"gu\",45,\"초급\")\n",
        "monster1.attack()\n",
        "monster1.show_info() "
      ],
      "execution_count": 0,
      "outputs": [
        {
          "output_type": "stream",
          "text": [
            "Julia 이(가)공격 수행, [power]: 357\n",
            "gu 이(가)공격 수행, [power]: 45\n",
            "이름: gu / 종류 : 초급\n"
          ],
          "name": "stdout"
        }
      ]
    },
    {
      "cell_type": "markdown",
      "metadata": {
        "id": "26V3WTqT4B3J",
        "colab_type": "text"
      },
      "source": [
        "#### 3. Class public & private\n"
      ]
    },
    {
      "cell_type": "code",
      "metadata": {
        "id": "Xy-ErWkhig2i",
        "colab_type": "code",
        "outputId": "e2a60269-71e6-4e4e-f6f1-f5b75475271f",
        "colab": {
          "base_uri": "https://localhost:8080/",
          "height": 365
        }
      },
      "source": [
        "class Quad:\n",
        "  def __init__(self,width,height,color):\n",
        "    self._width = width\n",
        "    self._height = height\n",
        "    self._color =  color\n",
        "\n",
        "  def get_area(self):\n",
        "    return self._width * self._height\n",
        "\n",
        "  def _set_area(self,new_width,new_height):\n",
        "    self._width =new_width\n",
        "    self._height = new_height\n",
        "\n",
        "\n",
        "square = Quad(5, 5, \"black\")\n",
        "print(square.get_area())\n",
        "print(square._width)\n",
        "square._width = 10\n",
        "print(square.get_area())\n",
        "square._set_area(3, 3)\n",
        "print(square.get_area())\n",
        "\n",
        "print(\"\\n\")\n",
        "\n",
        "#####private로 선언했을 때#####\n",
        "#_:proteced __:private\n",
        "class Quadrangle:\n",
        "    def __init__(self, width, height, color):\n",
        "        self._width = width\n",
        "        self.__height = height\n",
        "        self.__color = color\n",
        " \n",
        "    def get_area(self):\n",
        "        return self._width * self.__height\n",
        "    \n",
        "    def __set_area(self, width, height):\n",
        "        self._width = width \n",
        "        self.__height = height\n",
        "\n",
        "#_은 protected이기 때문에 접근 가능\n",
        "square = Quadrangle(5, 5, \"black\")\n",
        "print(square._width)\n",
        "\n",
        "#__는 private이기 때문에 접근 불가능\n",
        "print(square.__set_area(10, 10))\n",
        "print(square.get_area())\n",
        "print(square.__width)\n",
        "square.__width = 10\n",
        "square.__set_area(3, 3)"
      ],
      "execution_count": 0,
      "outputs": [
        {
          "output_type": "stream",
          "text": [
            "25\n",
            "5\n",
            "50\n",
            "9\n",
            "\n",
            "\n",
            "5\n"
          ],
          "name": "stdout"
        },
        {
          "output_type": "error",
          "ename": "AttributeError",
          "evalue": "ignored",
          "traceback": [
            "\u001b[0;31m---------------------------------------------------------------------------\u001b[0m",
            "\u001b[0;31mAttributeError\u001b[0m                            Traceback (most recent call last)",
            "\u001b[0;32m<ipython-input-78-df79d0f812d9>\u001b[0m in \u001b[0;36m<module>\u001b[0;34m()\u001b[0m\n\u001b[1;32m     43\u001b[0m \u001b[0;34m\u001b[0m\u001b[0m\n\u001b[1;32m     44\u001b[0m \u001b[0;31m#__는 private이기 때문에 접근 불가능\u001b[0m\u001b[0;34m\u001b[0m\u001b[0;34m\u001b[0m\u001b[0;34m\u001b[0m\u001b[0m\n\u001b[0;32m---> 45\u001b[0;31m \u001b[0mprint\u001b[0m\u001b[0;34m(\u001b[0m\u001b[0msquare\u001b[0m\u001b[0;34m.\u001b[0m\u001b[0m__set_area\u001b[0m\u001b[0;34m(\u001b[0m\u001b[0;36m10\u001b[0m\u001b[0;34m,\u001b[0m \u001b[0;36m10\u001b[0m\u001b[0;34m)\u001b[0m\u001b[0;34m)\u001b[0m\u001b[0;34m\u001b[0m\u001b[0;34m\u001b[0m\u001b[0m\n\u001b[0m\u001b[1;32m     46\u001b[0m \u001b[0mprint\u001b[0m\u001b[0;34m(\u001b[0m\u001b[0msquare\u001b[0m\u001b[0;34m.\u001b[0m\u001b[0mget_area\u001b[0m\u001b[0;34m(\u001b[0m\u001b[0;34m)\u001b[0m\u001b[0;34m)\u001b[0m\u001b[0;34m\u001b[0m\u001b[0;34m\u001b[0m\u001b[0m\n\u001b[1;32m     47\u001b[0m \u001b[0mprint\u001b[0m\u001b[0;34m(\u001b[0m\u001b[0msquare\u001b[0m\u001b[0;34m.\u001b[0m\u001b[0m__width\u001b[0m\u001b[0;34m)\u001b[0m\u001b[0;34m\u001b[0m\u001b[0;34m\u001b[0m\u001b[0m\n",
            "\u001b[0;31mAttributeError\u001b[0m: 'Quadrangle' object has no attribute '__set_area'"
          ]
        }
      ]
    },
    {
      "cell_type": "code",
      "metadata": {
        "id": "QR4Zp6pLCuYU",
        "colab_type": "code",
        "outputId": "f6d85c72-6cfd-4557-a59f-456c7464d745",
        "colab": {
          "base_uri": "https://localhost:8080/",
          "height": 35
        }
      },
      "source": [
        "class Rect:\n",
        "    def __init__(self, width, height):\n",
        "        if width <= 0 or height <= 0:                                           # 처음에 사용자가 음수로 지정할 경우 문제 발생\n",
        "            raise Exception(\"너비와 높이는 음수가 나올 수 없습니다.\")           #__private로 만들어 속성에 음수값을 줄 수 업게함 eg)rect.__width = -10\n",
        "        self.__width = width\n",
        "        self.__height = height\n",
        "\n",
        "#####private이라 변경할 수 없는 불편함이 있음#####\n",
        "\n",
        "###getter, setter추가 시작###\n",
        "def get_width(self):\n",
        "        return self.__width\n",
        "\n",
        "def set_width(self, width):\n",
        "        if width <= 0:\n",
        "            raise Exception(\"너비는 음수가 나올 수 없습니다.\")\n",
        "        self.__width = width\n",
        "\n",
        "def get_height(self):\n",
        "        return self.__height\n",
        "\n",
        "def set_height(self, height):\n",
        "        if height <= 0:\n",
        "            raise Exception(\"높이는 음수가 나올 수 없습니다.\")\n",
        "        self.__height = height\n",
        "###getter, setter추가 끝###\n",
        "\n",
        "def get_area(self):\n",
        "        return self.__width * self.__height\n",
        "\n",
        "# # rect = Rect(-10, 10)                                                          # 처음에 사용자가 음수로 지정할 경우 문제 발생\n",
        "# rect = Rect(10, 10)\n",
        "# rect.__width = -10                                                              # width 속성에 -10을 해도 실제 위 클래스에 영향 주지 않음 be)private이기 때문\n",
        "# # print(rect.get_area())\n",
        "\n",
        "# rect = Rect(10, 10)\n",
        "# rect.set_width(rect.get_width() + 10)  # 너비 10 증가\n",
        "# print(rect.get_area())\n",
        "\n",
        "\n",
        "rect = Rect(10, 10)\n",
        "rect.__class__\n",
        "\n",
        "\n"
      ],
      "execution_count": 1,
      "outputs": [
        {
          "output_type": "execute_result",
          "data": {
            "text/plain": [
              "__main__.Rect"
            ]
          },
          "metadata": {
            "tags": []
          },
          "execution_count": 1
        }
      ]
    },
    {
      "cell_type": "code",
      "metadata": {
        "id": "2Z6N81OV7O5Z",
        "colab_type": "code",
        "colab": {
          "base_uri": "https://localhost:8080/",
          "height": 141
        },
        "outputId": "f27856a6-4844-47f3-8992-c1bdb29b1fbb"
      },
      "source": [
        "# class Konto:\n",
        "#   def __init__(self,Ausgleich,Bank_Konto):\n",
        "#     # self.__Ausgleich=Ausgleich         #1 __private로 만들어 값을 변경할 수 없게함\n",
        "#     self.Ausgleich=Ausgleich\n",
        "#     self.Bank_Konto=Bank_Konto\n",
        "\n",
        "# konto1=Konto(70,789)\n",
        "# print(konto1.Ausgleich)\n",
        "# print(konto1.Bank_Konto)\n",
        "# # konto1.Ausgleich=2                     #1 Ausgleich를 2로 변경할 수 없음\n",
        "# print(\"\\t\")\n",
        "# konto1=Konto(40,456)\n",
        "# print(konto1.Ausgleich)\n",
        "# print(konto1.Bank_Konto)\n",
        "\n",
        "\n",
        "\n",
        "class Konto:\n",
        "  def __init__(self,Ausgleich,Bank_Konto):\n",
        "    self.__Ausgleich=Ausgleich\n",
        "    self.__Bank_Konto=Bank_Konto\n",
        "\n",
        "#Ausgleich get#\n",
        "  def getter_Ausgleich(self):\n",
        "    return self.__Ausgleich * 10\n",
        "#Bank_Konto get#\n",
        "  def getter_Bank_Konto(self):\n",
        "    return print(self.__Bank_Konto)\n",
        "#Ausgleich set#\n",
        "  def setter(self,Ausgleich,Bank_Konto):\n",
        "    if isinstance(Ausgleich,int):\n",
        "     #return -get으로 값을 보내야하기 때문에 return하면 안됨\n",
        "     #print(Ausgleich * 100)\n",
        "     self.__Ausgleich=Ausgleich *100\n",
        "     self.__Bank_Konto=Bank_Konto,':Neue Bank Konto'\n",
        "    #  print(Bank_Konto,':Neue Bank Konto')\n",
        "    else:\n",
        "      raise Exception (\"Bitte geben Sie die Nummer ein\")\n",
        "\n",
        "\n",
        "a=Konto(70,789)\n",
        "print(a.getter_Ausgleich())\n",
        "print(a.getter_Bank_Konto())\n",
        "print(\"\\t\")\n",
        "a.setter(40,'456-779')\n",
        "print(a.getter_Ausgleich())\n",
        "print(a.getter_Bank_Konto())\n",
        "\n",
        "class Konto:\n",
        "  def __init__(self,Ausgleich,Bank_Konto):\n",
        "    self.__Ausgleich=Ausgleich\n",
        "    self.__Bank_Konto=Bank_Konto\n",
        "\n",
        "#Ausgleich get#\n",
        "  @property\n",
        "  def Ausgleich(self):\n",
        "    return self.__Ausgleich * 10\n",
        "#Bank_Konto get#\n",
        "  @property\n",
        "  def Bank_Konto(self):\n",
        "    return print(self.__Bank_Konto)\n",
        "#Ausgleich set#\n",
        "  @Ausgleich.setter\n",
        "  def Ausgleich(self,Ausgleich,Bank_Konto):\n",
        "    if isinstance(Ausgleich,int):\n",
        "     #return -get으로 값을 보내야하기 때문에 return하면 안됨\n",
        "     #print(Ausgleich * 100)\n",
        "     self.__Ausgleich=Ausgleich *100\n",
        "     self.__Bank_Konto=Bank_Konto,':Neue Bank Konto'\n",
        "    #  print(Bank_Konto,':Neue Bank Konto')\n",
        "    else:\n",
        "      raise Exception (\"Bitte geben Sie die Nummer ein\")\n",
        "\n",
        "konto_pro=Konto(50,567)\n",
        "print(konto.Ausgleich())\n",
        "\n",
        "\n",
        "# class Account:\n",
        "#   def __init__(self,balance,bank_account):\n",
        "#     self.__balance=balance\n",
        "#     self.__bank_account=bank_account\n",
        "#   @property\n",
        "#   def balance(self):\n",
        "#     return self.__balance\n",
        "#   @property\n",
        "#   def bank_account(self):\n",
        "#     return self.__bank_account\n",
        "\n",
        "# account1=Account(100,123)\n",
        "# print(account1)\n",
        "# account1.balance=10000\n",
        "\n",
        "# account1.balance"
      ],
      "execution_count": 114,
      "outputs": [
        {
          "output_type": "stream",
          "text": [
            "700\n",
            "789\n",
            "None\n",
            "\t\n",
            "40000\n",
            "('456-779', ':Neue Bank Konto')\n",
            "None\n"
          ],
          "name": "stdout"
        }
      ]
    },
    {
      "cell_type": "code",
      "metadata": {
        "id": "8S0gtQRezlG3",
        "colab_type": "code",
        "colab": {}
      },
      "source": [
        ""
      ],
      "execution_count": 0,
      "outputs": []
    },
    {
      "cell_type": "code",
      "metadata": {
        "id": "S62oqh5F95Dp",
        "colab_type": "code",
        "colab": {}
      },
      "source": [
        ""
      ],
      "execution_count": 0,
      "outputs": []
    }
  ]
}