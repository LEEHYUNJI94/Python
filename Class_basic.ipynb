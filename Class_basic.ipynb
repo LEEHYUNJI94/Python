{
  "nbformat": 4,
  "nbformat_minor": 0,
  "metadata": {
    "colab": {
      "name": "Class_basic94.ipynb의 사본",
      "provenance": [],
      "collapsed_sections": [],
      "include_colab_link": true
    },
    "kernelspec": {
      "name": "python3",
      "display_name": "Python 3"
    }
  },
  "cells": [
    {
      "cell_type": "markdown",
      "metadata": {
        "id": "view-in-github",
        "colab_type": "text"
      },
      "source": [
        "<a href=\"https://colab.research.google.com/github/LEEHYUNJI94/Python_Basics/blob/master/Class_basic.ipynb\" target=\"_parent\"><img src=\"https://colab.research.google.com/assets/colab-badge.svg\" alt=\"Open In Colab\"/></a>"
      ]
    },
    {
      "cell_type": "markdown",
      "metadata": {
        "id": "HScvrTgm1WLE"
      },
      "source": [
        "\n",
        "▶Class\n",
        "1.   Class (=객체)\n",
        "*   인스턴스 : 클래스안에 함수로 정의된 것\n",
        "*   클래스 맴버 : 클래스 내부에 포함되는 변수 (함수로 정의 된 것)\n",
        "*   클래스 함수 : 클래스 내부에 포함되는 함수=메소드\n",
        "*   a=Surrender()  -> a는 객체 / Surrender()의 인스턴스"
      ]
    },
    {
      "cell_type": "code",
      "metadata": {
        "id": "VlTMDPWD053r"
      },
      "source": [
        "class car_factory:\r\n",
        "\r\n",
        "# class 생성자 = 객체화시(변수에 클래스를 담을때) 바로 실행\r\n",
        "  def __init__(self,name,color):\r\n",
        "    self.name=name    #class member\r\n",
        "    self.color=color  #class member\r\n",
        "# 소멸자 생성  \r\n",
        "  def __del__(self):\r\n",
        "    print(\"인스턴스를 소멸합니다.\")\r\n",
        "# class method : 이름과 색깔 디스플레이 \r\n",
        "  def show_info(self):\r\n",
        "    print(\"Der Name des Auto ist\",self.name,\"/Die Farbe des Auto ist\",self.color)\r\n",
        "# 이름 변경 setter method\r\n",
        "  def set_name(self,new_name):\r\n",
        "    self.name=new_name  \r\n",
        "\r\n",
        "car1=car_factory(\"Benz\",\"Pink\")\r\n",
        "print(dir(car1))   #메소드 확인\r\n",
        "car1.show_info()   #Der Name des Auto ist Benz /Die Farbe des Auto ist Pink\r\n",
        "car1.set_name(\"BMW\")    \r\n",
        "car1.show_info()   #Der Name des Auto ist BMW /Die Farbe des Auto ist Pink\r\n",
        "# del car1           #메모리 할당 해제\r\n",
        "# car1.show_info()   #할당해제로 오류발생  Error message :name 'car1' is not defined"
      ],
      "execution_count": null,
      "outputs": []
    },
    {
      "cell_type": "markdown",
      "metadata": {
        "id": "aAptOrj1082t"
      },
      "source": [
        "* 클래스 속성확인 "
      ]
    },
    {
      "cell_type": "code",
      "metadata": {
        "id": "1NQc2SLz0_eV"
      },
      "source": [
        "print(car1.__dict__)\r\n",
        "print(car1.name)\r\n",
        "print(car_factory.__dict__)\r\n",
        "car_factory.__mro__     #class 상속 순서"
      ],
      "execution_count": null,
      "outputs": []
    },
    {
      "cell_type": "markdown",
      "metadata": {
        "id": "H69D_BM71Ckt"
      },
      "source": [
        "2.   Class 상속\r\n",
        "\r\n",
        "\r\n",
        "* 자식 class : 부모 클래스를 상속받은 클래스"
      ]
    },
    {
      "cell_type": "code",
      "metadata": {
        "id": "76lD5qPL1FYc"
      },
      "source": [
        "class Unit:\r\n",
        "  def __init__(self,name,level,power):\r\n",
        "    self.name=name\r\n",
        "    self.level=level\r\n",
        "    self.power=power\r\n",
        "  def attack(self):\r\n",
        "    self.power=self.power + 2\r\n",
        "    print(self.name,\"공격수행\",self.power,\"만큼 증가\")\r\n",
        "  def under_attact(self,power):\r\n",
        "    self.power=power - 2\r\n",
        "    print(self.name,\"공격받음\",self.power,\"만큼 감소\")\r\n",
        "  def total_power (self):\r\n",
        "    print(self.power)\r\n",
        "\r\n",
        "# class 상속\r\n",
        "class Monster(Unit):   #class \"child class name\"(부모클레스):\r\n",
        "  def __init__(self,name,level,power):\r\n",
        "    self.name=name\r\n",
        "    self.level=level\r\n",
        "    self.power=power\r\n",
        "# 메소드 오버라이딩 = 부모 클래스의 메소드를 자식 클래스에서 재정의    \r\n",
        "  def attack(self):\r\n",
        "    self.power=self.power + 8\r\n",
        "    print(self.name,\"공격수행\",self.power,\"만큼 증가\")\r\n",
        "  def show_info(self):\r\n",
        "    print(self.name,\"/\",self.level,\"/\",self.power)\r\n",
        "# 부모 메소드 호출 super().\"함수명\"()   \r\n",
        "  def total_power(self):\r\n",
        "    super().total_power()\r\n",
        "\r\n",
        "monster1=Monster(\"julia\",\"beginner\",4)\r\n",
        "monster1.attack()\r\n",
        "monster1.show_info()\r\n",
        "monster1.total_power()"
      ],
      "execution_count": null,
      "outputs": []
    },
    {
      "cell_type": "markdown",
      "metadata": {
        "id": "7bnLLNrc1Jts"
      },
      "source": [
        "3. Class public & private의 기능\r\n",
        "* public = __ 변수명 __\r\n",
        "* private = __변수명\r\n",
        "* protected = _변수명"
      ]
    },
    {
      "cell_type": "code",
      "metadata": {
        "id": "6fsOn9Y_1L7n",
        "colab": {
          "base_uri": "https://localhost:8080/"
        },
        "outputId": "6647aad3-7955-47e2-d2bd-f8767eb09fec"
      },
      "source": [
        "# public\r\n",
        "class Quad:\r\n",
        "  def __init__(self,width,height):\r\n",
        "    self.width=width\r\n",
        "    self.height=height\r\n",
        "  def get_area (self):\r\n",
        "    return self.width * self.height \r\n",
        "  def set_area(self,new_width,new_height):\r\n",
        "    self.width=new_width\r\n",
        "    self.height=new_height\r\n",
        "\r\n",
        "Quad1=Quad(3,2)\r\n",
        "print(Quad1.get_area())\r\n",
        "Quad1.height=4\r\n",
        "print(Quad1.get_area())\r\n",
        "\r\n",
        "print(\"\\n\")\r\n",
        "\r\n",
        "class squad:\r\n",
        "  def __init__(self,width,height):\r\n",
        "    self._width=width\r\n",
        "# private\r\n",
        "    self.__height=height\r\n",
        "  def _get_area(self):\r\n",
        "    return self._width * self.__height\r\n",
        "  def setter (self,new_width,new_height):\r\n",
        "    self._width=new_width \r\n",
        "    self.__height=new_height\r\n",
        "\r\n",
        "\r\n",
        "squad1=squad(3,2)\r\n",
        "print(squad1._get_area())    #6 _get_area = protected 이기에 사용은 가능(경고)\r\n",
        "squad1._width                #3\r\n",
        "#squad1.__height              #__height=private 이기에 접근 X\r\n",
        "squad1.__height=3\r\n",
        "squad1.setter(9,9)\r\n",
        "print(squad1._get_area())    #6 __height를 3으로 변경해도 영향을 줄 수 X\r\n",
        "# squad1.__height            #heigh = private 이기에 Error message: has no attribute '__height'\r\n",
        "# squad1.__set_area(4,5)     #get_area()= private 이기에  Error message: has no attribute 'get_area'"
      ],
      "execution_count": null,
      "outputs": [
        {
          "output_type": "stream",
          "text": [
            "6\n",
            "12\n",
            "\n",
            "\n",
            "6\n",
            "81\n"
          ],
          "name": "stdout"
        }
      ]
    },
    {
      "cell_type": "markdown",
      "metadata": {
        "id": "8s0ALHki4jKR"
      },
      "source": [
        "4. 데코레이터\r\n",
        "* 기존 함수의 내용을 건드리지 않고 어떤 기능을 추가만 하고 싶을 때는 데코레이터가 유용"
      ]
    },
    {
      "cell_type": "code",
      "metadata": {
        "colab": {
          "base_uri": "https://localhost:8080/"
        },
        "id": "XXQ900oo4jzO",
        "outputId": "b56d9d5e-3a94-411e-85d1-e1461407b7af"
      },
      "source": [
        "import datetime\r\n",
        "\r\n",
        "# 함수사용 값 앞뒤로 출력시간을 출력하는 decorator / *주의: def & return의 space\r\n",
        "def timedate_decorator(func):\r\n",
        "  def output_timedate ():\r\n",
        "        print(datetime.datetime.now())\r\n",
        "        func()\r\n",
        "        print(datetime.datetime.now())\r\n",
        "  return output_timedate\r\n",
        "\r\n",
        "#데코레이터 사용\r\n",
        "@timedate_decorator\r\n",
        "def main_func_1():\r\n",
        "  print(\"main_func_1 Starts!\")\r\n",
        "\r\n",
        "main_func_1()\r\n",
        "\r\n",
        "# datetime_decorator 함수실행 (print)-> func()=실행함수(main_function_1)-> (print)\r\n",
        "# 2020-12-11 13:05:42.562696\r\n",
        "# main_func_1 Starts!\r\n",
        "# 2020-12-11 13:05:42.562813"
      ],
      "execution_count": null,
      "outputs": [
        {
          "output_type": "stream",
          "text": [
            "2020-12-11 13:05:42.562696\n",
            "main_func_1 Starts!\n",
            "2020-12-11 13:05:42.562813\n"
          ],
          "name": "stdout"
        }
      ]
    },
    {
      "cell_type": "markdown",
      "metadata": {
        "id": "9fPFHg_od6--"
      },
      "source": [
        "5. @property, @.setter만들기 1"
      ]
    },
    {
      "cell_type": "code",
      "metadata": {
        "colab": {
          "base_uri": "https://localhost:8080/"
        },
        "id": "c2Iz3fVGX29S",
        "outputId": "e56e95fb-3a6a-46a3-bec1-850aeefc1095"
      },
      "source": [
        "class konto:\r\n",
        "  def __init__(self,balance,konto):\r\n",
        "    self.__balance=balance\r\n",
        "    self.__konto=konto\r\n",
        "\r\n",
        "\r\n",
        "# 각 속성에 대해 get,set의 property를 만들어줌\r\n",
        "  @property\r\n",
        "  def balance(self):\r\n",
        "    return self.__balance\r\n",
        "  @balance.setter\r\n",
        "  def balance(self,new_balance):\r\n",
        "     self.__balance=new_balance\r\n",
        "\r\n",
        "  @property\r\n",
        "  def konto(self):\r\n",
        "    return self.__konto\r\n",
        "  @konto.setter\r\n",
        "  def konto(self,new_konto):\r\n",
        "     self.__konto=new_konto\r\n",
        "\r\n",
        "konto1=konto(25000,\"123242\")\r\n",
        "print(konto1.balance)    \r\n",
        "print(konto1.konto)\r\n",
        "# set을 하지 X ->@property를 이용해 instance.attribute=value형식으로 바로 attribute의 value에 접근가능(private 이지만)\r\n",
        "konto1.balance=30000\r\n",
        "print(konto1.balance)"
      ],
      "execution_count": null,
      "outputs": [
        {
          "output_type": "stream",
          "text": [
            "25000\n",
            "123242\n",
            "30000\n",
            "123242\n"
          ],
          "name": "stdout"
        }
      ]
    },
    {
      "cell_type": "markdown",
      "metadata": {
        "id": "7QN59zb4JOAS"
      },
      "source": [
        "6. 속성관련 함수"
      ]
    },
    {
      "cell_type": "code",
      "metadata": {
        "colab": {
          "base_uri": "https://localhost:8080/"
        },
        "id": "CGwK5aQYJONS",
        "outputId": "39b89fe6-3ce2-448a-b7f4-258390b216b1"
      },
      "source": [
        "class cls_attr:\r\n",
        "  a=1\r\n",
        "  def b(self):\r\n",
        "    pass\r\n",
        "\r\n",
        "# print(cls_attr)       #<class '__main__.cls_attr'> : 클래스출력 객체이기 때문에 가능\r\n",
        "hasattr(cls_attr,'b') #True\r\n",
        "getattr(cls_attr,'a') #1\r\n",
        "setattr(cls_attr,'a',10)\r\n",
        "getattr(cls_attr,'a') \r\n",
        "# 클래스에 새로운 속성추가 \r\n",
        "cls_attr.new_attr1=123456789\r\n",
        "hasattr(cls_attr,'new_attr1') #True\r\n",
        "getattr(cls_attr,'new_attr1') #123456789\r\n",
        "# 클래스를 변수에 할당할 수 있음\r\n",
        "mirror_cls_attr=cls_attr\r\n",
        "# 할당된 변수의 속성확인\r\n",
        "print(mirror_cls_attr.new_attr1)\r\n",
        "mirror_cls_attr()"
      ],
      "execution_count": 24,
      "outputs": [
        {
          "output_type": "stream",
          "text": [
            "123456789\n"
          ],
          "name": "stdout"
        },
        {
          "output_type": "execute_result",
          "data": {
            "text/plain": [
              "<__main__.cls_attr at 0x7f9f5be14198>"
            ]
          },
          "metadata": {
            "tags": []
          },
          "execution_count": 24
        }
      ]
    },
    {
      "cell_type": "markdown",
      "metadata": {
        "id": "zXLji5C_K3KJ"
      },
      "source": [
        "7. 메타클래스\r\n",
        "-클래스라는 객체를 만들기 위한 클래스가 있어야하며 해당 부분이 메타클래스임\r\n",
        "> 동적으로 class 생성\r\n",
        "* type 사용법 (자료형의 종류를 알아낼때 & 클래스를 생성할때)\r\n",
        "\r\n",
        "```\r\n",
        "클래스이름=type('클래스이름',(부모클래스,=상속시 이용),{})\r\n",
        "```"
      ]
    },
    {
      "cell_type": "code",
      "metadata": {
        "id": "C8Umlr33eAP0",
        "colab": {
          "base_uri": "https://localhost:8080/"
        },
        "outputId": "29494a43-f279-44d4-ccc3-c3648fa43626"
      },
      "source": [
        "class cls:\r\n",
        "  test1='test1-123'\r\n",
        "print(cls)                  #<class '__main__.cls'>\r\n",
        "\r\n",
        "# 위↑ 클래스를 type을 사용해 class 생성 -> dict으로 인자를 받음\r\n",
        "cls1_type=type('cls1_type',(),{'test1':'test1-123'}) \r\n",
        "print(cls1_type)            #<class '__main__.cls1_type'>\r\n",
        "\r\n",
        "# 속성확인\r\n",
        "print(cls1_type())          #<__main__.cls1_type object at 0x7f79604feb38>\r\n",
        "print(cls1_type.test1)      #test1-123\r\n",
        "print(\"\\t\")\r\n",
        "\r\n",
        "# 상속\r\n",
        "cls1_type_child=type('cls1_type_child',(cls1_type,),{})\r\n",
        "print(hasattr(cls1_type_child,'test1'))  #True\r\n",
        "\r\n",
        "# class에 새로운 매소드 추가\r\n",
        "def abc(self):\r\n",
        "  print('abc')\r\n",
        "\r\n",
        "cls2_type=type('cls2_type',(cls1_type,),{'abc':abc})\r\n",
        "print(hasattr(cls2_type,'abc'))      #True\r\n",
        "print(hasattr(cls1_type,'abc'))      #False -> 부모클래스는 자식클래스의 매소드를 상속받지 못하기때문"
      ],
      "execution_count": 2,
      "outputs": [
        {
          "output_type": "stream",
          "text": [
            "<class '__main__.cls'>\n",
            "<class '__main__.cls1_type'>\n",
            "<__main__.cls1_type object at 0x7f26bfb55908>\n",
            "test1-123\n",
            "\t\n",
            "True\n",
            "True\n",
            "False\n"
          ],
          "name": "stdout"
        }
      ]
    },
    {
      "cell_type": "markdown",
      "metadata": {
        "id": "g-muaiEtvReM"
      },
      "source": [
        "8. 추상클래스 & 오버라이딩\r\n",
        "\r\n",
        "> *  메서드의 목록만 가진 클래스이며 자식클래스에서 해당 추상 메소드를 반드시 구현하도록 강제\r\n",
        "* 상속받은 클래스는 추상메소드를 구현하지 않아도, import할 때까지 에러발생 X 객체생성 시 에러발생\r\n",
        "* 사용법\r\n",
        "\r\n",
        "\r\n",
        "```\r\n",
        "#추상클래스를 만들기 위해서는 ABC(Abstract Base Class)모듈 사용\r\n",
        "from abc import *\r\n",
        "#metaclass지정\r\n",
        "class '추상클래스이름' (metaclass=ABCMeta):\r\n",
        "#추상메소드로 지정\r\n",
        "@abstractmethod\r\n",
        "  def 함수명 (self):\r\n",
        "    코드\r\n",
        "```\r\n",
        "\r\n",
        "\r\n",
        "\r\n"
      ]
    },
    {
      "cell_type": "code",
      "metadata": {
        "colab": {
          "base_uri": "https://localhost:8080/"
        },
        "id": "PGpLMDjnvRya",
        "outputId": "9b0420a8-bc5c-4c15-fe09-32316e2846de"
      },
      "source": [
        "from abc import *\r\n",
        "class cls_Tier(metaclass=ABCMeta):\r\n",
        "  def __init__(self,size,alter):\r\n",
        "    self.size=size\r\n",
        "    self.alter=alter\r\n",
        "  def Essen(self):\r\n",
        "    print('Ich hab gegessen!')\r\n",
        "# 추상메소드 선언 (overriding하도록)\r\n",
        "  @abstractmethod\r\n",
        "  def Jagd(self):\r\n",
        "    pass          #빈 메소드로 만듦\r\n",
        "\r\n",
        "\r\n",
        "#animal class 상속\r\n",
        "class Hase (cls_Tier):\r\n",
        "  def __init__(self,size,alter,power):\r\n",
        "# 부모 메소드 오버라이딩 →super().method()    \r\n",
        "    super().__init__(size,alter)\r\n",
        "    self.power=power\r\n",
        "  def Jagd (self,tier):\r\n",
        "    if tier==\"Tiger\":\r\n",
        "      print(\"Renn!\")\r\n",
        "    else: \r\n",
        "      print(\"kämpf\")\r\n",
        "\r\n",
        "result=Hase(4,5,80)\r\n",
        "print(result)               #<__main__.Hase object at 0x7f889f4ee978>\r\n",
        "result.Jagd(\"Tiger\")        #Renn!"
      ],
      "execution_count": 6,
      "outputs": [
        {
          "output_type": "stream",
          "text": [
            "<__main__.Hase object at 0x7f889f4ee978>\n",
            "Renn!\n"
          ],
          "name": "stdout"
        }
      ]
    },
    {
      "cell_type": "markdown",
      "metadata": {
        "id": "i9_G66nI8QOz"
      },
      "source": [
        "9. 스페셜 메소드"
      ]
    },
    {
      "cell_type": "code",
      "metadata": {
        "colab": {
          "base_uri": "https://localhost:8080/",
          "height": 154
        },
        "id": "MWq54yaX8QRh",
        "outputId": "16b4ee9c-bd19-45c2-f28a-36ef4c709341"
      },
      "source": [
        "class cls_sp :\r\n",
        "  pass\r\n",
        "# print(dir(cls_sp))\r\n",
        "\r\n",
        "count=0\r\n",
        "for i in dir(cls_sp()):\r\n",
        "    print(i,end=', ')\r\n",
        "    count += 1\r\n",
        "    if count % 5 == 0:\r\n",
        "      print()\r\n",
        "\r\n",
        "print(\"\\t\")\r\n",
        "\r\n",
        "class cls_str:\r\n",
        "  def __init__(self,string):\r\n",
        "    self.string=string\r\n",
        "  def __repr__(self):\r\n",
        "    return \"repr_output('{}')\".format(self.string)\r\n",
        "  def __bytes__(self):\r\n",
        "    return str.encode(self.string)\r\n",
        "  def __format__(self,format):\r\n",
        "    if format == 'this-string':\r\n",
        "      return \"This is string :{}\".format(self.string)\r\n",
        "    return self.string  \r\n",
        "\r\n",
        "var_str=cls_str(\"lernen python\")\r\n",
        "print(var_str)                      #repr_output('lernen python')\r\n",
        "repr(var_str)                       #'repr_output('lernen python')'\r\n",
        "str(var_str)                        #'repr_output('lernen python')'\r\n",
        "bytes(var_str)                      #b'lernen python'\r\n",
        "\"{:this-string}\".format(var_str)    #This is string :lernen python"
      ],
      "execution_count": 39,
      "outputs": [
        {
          "output_type": "stream",
          "text": [
            "__class__, __delattr__, __dict__, __dir__, __doc__, \n",
            "__eq__, __format__, __ge__, __getattribute__, __gt__, \n",
            "__hash__, __init__, __init_subclass__, __le__, __lt__, \n",
            "__module__, __ne__, __new__, __reduce__, __reduce_ex__, \n",
            "__repr__, __setattr__, __sizeof__, __str__, __subclasshook__, \n",
            "__weakref__, \t\n",
            "repr_output('lernen python')\n"
          ],
          "name": "stdout"
        },
        {
          "output_type": "execute_result",
          "data": {
            "application/vnd.google.colaboratory.intrinsic+json": {
              "type": "string"
            },
            "text/plain": [
              "'This is string :lernen python'"
            ]
          },
          "metadata": {
            "tags": []
          },
          "execution_count": 39
        }
      ]
    }
  ]
}